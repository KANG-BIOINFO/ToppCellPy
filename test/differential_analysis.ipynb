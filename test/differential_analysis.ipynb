{
 "cells": [
  {
   "cell_type": "code",
   "execution_count": 1,
   "id": "f43ebde6",
   "metadata": {},
   "outputs": [],
   "source": [
    "import scanpy as sc\n",
    "import pandas as pd\n",
    "import numpy as np"
   ]
  },
  {
   "cell_type": "code",
   "execution_count": 2,
   "id": "a7538343",
   "metadata": {},
   "outputs": [],
   "source": [
    "adata = sc.read(\"/Users/jinmr2/Dropbox/Code/data/batch2_all_raw_filtered.h5ad\")"
   ]
  },
  {
   "cell_type": "code",
   "execution_count": 10,
   "id": "a3944a57",
   "metadata": {},
   "outputs": [
    {
     "data": {
      "text/plain": [
       "AnnData object with n_obs × n_vars = 24673 × 35635\n",
       "    obs: 'tsne1', 'tsne2', 'ind', 'stim', 'cluster', 'cell', 'multiplets'\n",
       "    var: 'gene symbol'\n",
       "    uns: 'rank_genes_groups'"
      ]
     },
     "execution_count": 10,
     "metadata": {},
     "output_type": "execute_result"
    }
   ],
   "source": [
    "adata"
   ]
  },
  {
   "cell_type": "code",
   "execution_count": 3,
   "id": "7add68bd",
   "metadata": {},
   "outputs": [
    {
     "name": "stdout",
     "output_type": "stream",
     "text": [
      "WARNING: Default of the method has been changed to 't-test' from 't-test_overestim_var'\n",
      "WARNING: It seems you use rank_genes_groups on the raw count data. Please logarithmize your data before calling rank_genes_groups.\n"
     ]
    }
   ],
   "source": [
    "sc.tl.rank_genes_groups(adata, groupby = \"cell\", pts = True)"
   ]
  },
  {
   "cell_type": "code",
   "execution_count": 4,
   "id": "ccb076c1",
   "metadata": {},
   "outputs": [
    {
     "data": {
      "text/plain": [
       "dict_keys(['params', 'pts', 'pts_rest', 'names', 'scores', 'pvals', 'pvals_adj', 'logfoldchanges'])"
      ]
     },
     "execution_count": 4,
     "metadata": {},
     "output_type": "execute_result"
    }
   ],
   "source": [
    "adata.uns[\"rank_genes_groups\"].keys()"
   ]
  },
  {
   "cell_type": "code",
   "execution_count": 7,
   "id": "37933aa9",
   "metadata": {
    "scrolled": true
   },
   "outputs": [],
   "source": [
    "df_deg = format_DEGs(adata)"
   ]
  },
  {
   "cell_type": "code",
   "execution_count": 6,
   "id": "f85138a6",
   "metadata": {},
   "outputs": [],
   "source": [
    "def format_DEGs(adata):\n",
    "    keys = [\"names\",\"scores\",\"logfoldchanges\",\"pvals\",\"pvals_adj\",\"pts\",\"pts_rest\"]\n",
    "    for i,key in enumerate(keys):\n",
    "        a = pd.DataFrame(adata.uns[\"rank_genes_groups\"][key]) # transfer to data frame\n",
    "        b = pd.DataFrame(a.values.T.reshape(1,a.shape[0]*a.shape[1]).T) # reformat the data frame to one column\n",
    "           \n",
    "        if i == 0:\n",
    "            b.columns = [key] # rename the column name\n",
    "            b[\"Status\"] = sorted(list(a.columns)*a.shape[0]) # add Status annotation\n",
    "            b.set_index([key],inplace=True)\n",
    "            b_merged = b\n",
    "        else:\n",
    "            if key in [\"pts\",\"pts_rest\"]:\n",
    "                pts_all = []\n",
    "                for cell_group in np.unique(b_merged[\"Status\"]):\n",
    "                    genes = b_merged.loc[b_merged[\"Status\"] == cell_group,:].index.values\n",
    "                    pts_all = pts_all + list(a.loc[genes, cell_group])\n",
    "                b_merged[key] = pts_all\n",
    "            else:\n",
    "                b_merged[key] = list(b[0])\n",
    "        \n",
    "    return b_merged"
   ]
  },
  {
   "cell_type": "code",
   "execution_count": 8,
   "id": "836154f1",
   "metadata": {},
   "outputs": [
    {
     "data": {
      "text/html": [
       "<div>\n",
       "<style scoped>\n",
       "    .dataframe tbody tr th:only-of-type {\n",
       "        vertical-align: middle;\n",
       "    }\n",
       "\n",
       "    .dataframe tbody tr th {\n",
       "        vertical-align: top;\n",
       "    }\n",
       "\n",
       "    .dataframe thead th {\n",
       "        text-align: right;\n",
       "    }\n",
       "</style>\n",
       "<table border=\"1\" class=\"dataframe\">\n",
       "  <thead>\n",
       "    <tr style=\"text-align: right;\">\n",
       "      <th></th>\n",
       "      <th>Status</th>\n",
       "      <th>scores</th>\n",
       "      <th>logfoldchanges</th>\n",
       "      <th>pvals</th>\n",
       "      <th>pvals_adj</th>\n",
       "      <th>pts</th>\n",
       "      <th>pts_rest</th>\n",
       "    </tr>\n",
       "    <tr>\n",
       "      <th>names</th>\n",
       "      <th></th>\n",
       "      <th></th>\n",
       "      <th></th>\n",
       "      <th></th>\n",
       "      <th></th>\n",
       "      <th></th>\n",
       "      <th></th>\n",
       "    </tr>\n",
       "  </thead>\n",
       "  <tbody>\n",
       "    <tr>\n",
       "      <th>CD74</th>\n",
       "      <td>B cells</td>\n",
       "      <td>51.954353</td>\n",
       "      <td>12.832310</td>\n",
       "      <td>0.000000e+00</td>\n",
       "      <td>0.000000e+00</td>\n",
       "      <td>0.990284</td>\n",
       "      <td>0.526109</td>\n",
       "    </tr>\n",
       "    <tr>\n",
       "      <th>CD79A</th>\n",
       "      <td>B cells</td>\n",
       "      <td>45.080624</td>\n",
       "      <td>7.622758</td>\n",
       "      <td>0.000000e+00</td>\n",
       "      <td>0.000000e+00</td>\n",
       "      <td>0.690245</td>\n",
       "      <td>0.012670</td>\n",
       "    </tr>\n",
       "    <tr>\n",
       "      <th>RPL18A</th>\n",
       "      <td>B cells</td>\n",
       "      <td>32.703323</td>\n",
       "      <td>5.058470</td>\n",
       "      <td>3.407655e-201</td>\n",
       "      <td>6.132919e-199</td>\n",
       "      <td>0.996891</td>\n",
       "      <td>0.947783</td>\n",
       "    </tr>\n",
       "    <tr>\n",
       "      <th>MS4A1</th>\n",
       "      <td>B cells</td>\n",
       "      <td>32.226830</td>\n",
       "      <td>7.371540</td>\n",
       "      <td>9.420891e-192</td>\n",
       "      <td>1.568754e-189</td>\n",
       "      <td>0.456277</td>\n",
       "      <td>0.005158</td>\n",
       "    </tr>\n",
       "    <tr>\n",
       "      <th>CD37</th>\n",
       "      <td>B cells</td>\n",
       "      <td>32.126408</td>\n",
       "      <td>2.349647</td>\n",
       "      <td>1.389609e-192</td>\n",
       "      <td>2.335789e-190</td>\n",
       "      <td>0.650991</td>\n",
       "      <td>0.296561</td>\n",
       "    </tr>\n",
       "    <tr>\n",
       "      <th>...</th>\n",
       "      <td>...</td>\n",
       "      <td>...</td>\n",
       "      <td>...</td>\n",
       "      <td>...</td>\n",
       "      <td>...</td>\n",
       "      <td>...</td>\n",
       "      <td>...</td>\n",
       "    </tr>\n",
       "    <tr>\n",
       "      <th>S100A10</th>\n",
       "      <td>NK cells</td>\n",
       "      <td>-72.303185</td>\n",
       "      <td>-5.342782</td>\n",
       "      <td>0.000000e+00</td>\n",
       "      <td>0.000000e+00</td>\n",
       "      <td>0.230808</td>\n",
       "      <td>0.541623</td>\n",
       "    </tr>\n",
       "    <tr>\n",
       "      <th>PABPC1</th>\n",
       "      <td>NK cells</td>\n",
       "      <td>-73.809273</td>\n",
       "      <td>-5.536338</td>\n",
       "      <td>0.000000e+00</td>\n",
       "      <td>0.000000e+00</td>\n",
       "      <td>0.434521</td>\n",
       "      <td>0.839638</td>\n",
       "    </tr>\n",
       "    <tr>\n",
       "      <th>FTL</th>\n",
       "      <td>NK cells</td>\n",
       "      <td>-76.292999</td>\n",
       "      <td>-72.683151</td>\n",
       "      <td>0.000000e+00</td>\n",
       "      <td>0.000000e+00</td>\n",
       "      <td>0.810336</td>\n",
       "      <td>0.875705</td>\n",
       "    </tr>\n",
       "    <tr>\n",
       "      <th>S100A11</th>\n",
       "      <td>NK cells</td>\n",
       "      <td>-77.062469</td>\n",
       "      <td>-6.259836</td>\n",
       "      <td>0.000000e+00</td>\n",
       "      <td>0.000000e+00</td>\n",
       "      <td>0.357250</td>\n",
       "      <td>0.590476</td>\n",
       "    </tr>\n",
       "    <tr>\n",
       "      <th>FTH1</th>\n",
       "      <td>NK cells</td>\n",
       "      <td>-82.856506</td>\n",
       "      <td>-136.429413</td>\n",
       "      <td>0.000000e+00</td>\n",
       "      <td>0.000000e+00</td>\n",
       "      <td>0.981435</td>\n",
       "      <td>0.988845</td>\n",
       "    </tr>\n",
       "  </tbody>\n",
       "</table>\n",
       "<p>285080 rows × 7 columns</p>\n",
       "</div>"
      ],
      "text/plain": [
       "           Status     scores  logfoldchanges          pvals      pvals_adj  \\\n",
       "names                                                                        \n",
       "CD74      B cells  51.954353       12.832310   0.000000e+00   0.000000e+00   \n",
       "CD79A     B cells  45.080624        7.622758   0.000000e+00   0.000000e+00   \n",
       "RPL18A    B cells  32.703323        5.058470  3.407655e-201  6.132919e-199   \n",
       "MS4A1     B cells  32.226830        7.371540  9.420891e-192  1.568754e-189   \n",
       "CD37      B cells  32.126408        2.349647  1.389609e-192  2.335789e-190   \n",
       "...           ...        ...             ...            ...            ...   \n",
       "S100A10  NK cells -72.303185       -5.342782   0.000000e+00   0.000000e+00   \n",
       "PABPC1   NK cells -73.809273       -5.536338   0.000000e+00   0.000000e+00   \n",
       "FTL      NK cells -76.292999      -72.683151   0.000000e+00   0.000000e+00   \n",
       "S100A11  NK cells -77.062469       -6.259836   0.000000e+00   0.000000e+00   \n",
       "FTH1     NK cells -82.856506     -136.429413   0.000000e+00   0.000000e+00   \n",
       "\n",
       "              pts  pts_rest  \n",
       "names                        \n",
       "CD74     0.990284  0.526109  \n",
       "CD79A    0.690245  0.012670  \n",
       "RPL18A   0.996891  0.947783  \n",
       "MS4A1    0.456277  0.005158  \n",
       "CD37     0.650991  0.296561  \n",
       "...           ...       ...  \n",
       "S100A10  0.230808  0.541623  \n",
       "PABPC1   0.434521  0.839638  \n",
       "FTL      0.810336  0.875705  \n",
       "S100A11  0.357250  0.590476  \n",
       "FTH1     0.981435  0.988845  \n",
       "\n",
       "[285080 rows x 7 columns]"
      ]
     },
     "execution_count": 8,
     "metadata": {},
     "output_type": "execute_result"
    }
   ],
   "source": [
    "df_deg"
   ]
  },
  {
   "cell_type": "code",
   "execution_count": 9,
   "id": "fd8e8342",
   "metadata": {},
   "outputs": [],
   "source": [
    "df_deg.to_csv(\"DEGs_cell.txt\", sep = \"\\t\")"
   ]
  },
  {
   "cell_type": "code",
   "execution_count": null,
   "id": "bdf047bb",
   "metadata": {},
   "outputs": [],
   "source": []
  }
 ],
 "metadata": {
  "kernelspec": {
   "display_name": "Python 3 (ipykernel)",
   "language": "python",
   "name": "python3"
  },
  "language_info": {
   "codemirror_mode": {
    "name": "ipython",
    "version": 3
   },
   "file_extension": ".py",
   "mimetype": "text/x-python",
   "name": "python",
   "nbconvert_exporter": "python",
   "pygments_lexer": "ipython3",
   "version": "3.7.10"
  }
 },
 "nbformat": 4,
 "nbformat_minor": 5
}
