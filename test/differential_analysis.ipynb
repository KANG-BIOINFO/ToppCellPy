{
 "cells": [
  {
   "cell_type": "code",
   "execution_count": 1,
   "id": "f43ebde6",
   "metadata": {},
   "outputs": [],
   "source": [
    "import scanpy as sc\n",
    "import pandas as pd\n",
    "import numpy as np"
   ]
  },
  {
   "cell_type": "code",
   "execution_count": 9,
   "id": "a7538343",
   "metadata": {},
   "outputs": [],
   "source": [
    "adata = sc.read(\"/Users/kang/Dropbox/Code/data/batch2_all_normalized_filtered.h5ad\")"
   ]
  },
  {
   "cell_type": "code",
   "execution_count": 10,
   "id": "a3944a57",
   "metadata": {},
   "outputs": [
    {
     "data": {
      "text/plain": [
       "AnnData object with n_obs × n_vars = 24673 × 35635\n",
       "    obs: 'tsne1', 'tsne2', 'ind', 'stim', 'cluster', 'cell', 'multiplets'\n",
       "    var: 'gene symbol'\n",
       "    uns: 'log1p'"
      ]
     },
     "execution_count": 10,
     "metadata": {},
     "output_type": "execute_result"
    }
   ],
   "source": [
    "adata"
   ]
  },
  {
   "cell_type": "code",
   "execution_count": 19,
   "id": "7add68bd",
   "metadata": {},
   "outputs": [
    {
     "name": "stderr",
     "output_type": "stream",
     "text": [
      "WARNING: Default of the method has been changed to 't-test' from 't-test_overestim_var'\n"
     ]
    }
   ],
   "source": [
    "sc.tl.rank_genes_groups(adata, groupby = \"cell\", pts = True)"
   ]
  },
  {
   "cell_type": "code",
   "execution_count": 4,
   "id": "ccb076c1",
   "metadata": {},
   "outputs": [
    {
     "data": {
      "text/plain": [
       "dict_keys(['params', 'pts', 'pts_rest', 'names', 'scores', 'pvals', 'pvals_adj', 'logfoldchanges'])"
      ]
     },
     "execution_count": 4,
     "metadata": {},
     "output_type": "execute_result"
    }
   ],
   "source": [
    "adata.uns[\"rank_genes_groups\"].keys()"
   ]
  },
  {
   "cell_type": "code",
   "execution_count": 16,
   "id": "37933aa9",
   "metadata": {
    "scrolled": true
   },
   "outputs": [],
   "source": [
    "df_deg = format_DEGs(adata)"
   ]
  },
  {
   "cell_type": "code",
   "execution_count": 13,
   "id": "f85138a6",
   "metadata": {},
   "outputs": [],
   "source": [
    "def format_DEGs(adata):\n",
    "    keys = [\"names\",\"scores\",\"logfoldchanges\",\"pvals\",\"pvals_adj\",\"pts\",\"pts_rest\"]\n",
    "    for i,key in enumerate(keys):\n",
    "        a = pd.DataFrame(adata.uns[\"rank_genes_groups\"][key]) # transfer to data frame\n",
    "        b = pd.DataFrame(a.values.T.reshape(1,a.shape[0]*a.shape[1]).T) # reformat the data frame to one column\n",
    "           \n",
    "        if i == 0:\n",
    "            b.columns = [key] # rename the column name\n",
    "            b[\"Status\"] = sorted(list(a.columns)*a.shape[0]) # add Status annotation\n",
    "            b.set_index([key],inplace=True)\n",
    "            b_merged = b\n",
    "        else:\n",
    "            if key in [\"pts\",\"pts_rest\"]:\n",
    "                pts_all = []\n",
    "                for cell_group in np.unique(b_merged[\"Status\"]):\n",
    "                    genes = b_merged.loc[b_merged[\"Status\"] == cell_group,:].index.values\n",
    "                    pts_all = pts_all + list(a.loc[genes, cell_group])\n",
    "                b_merged[key] = pts_all\n",
    "            else:\n",
    "                b_merged[key] = list(b[0])\n",
    "        \n",
    "    return b_merged"
   ]
  },
  {
   "cell_type": "code",
   "execution_count": 17,
   "id": "836154f1",
   "metadata": {},
   "outputs": [
    {
     "data": {
      "text/html": [
       "<div>\n",
       "<style scoped>\n",
       "    .dataframe tbody tr th:only-of-type {\n",
       "        vertical-align: middle;\n",
       "    }\n",
       "\n",
       "    .dataframe tbody tr th {\n",
       "        vertical-align: top;\n",
       "    }\n",
       "\n",
       "    .dataframe thead th {\n",
       "        text-align: right;\n",
       "    }\n",
       "</style>\n",
       "<table border=\"1\" class=\"dataframe\">\n",
       "  <thead>\n",
       "    <tr style=\"text-align: right;\">\n",
       "      <th></th>\n",
       "      <th>Status</th>\n",
       "      <th>scores</th>\n",
       "      <th>logfoldchanges</th>\n",
       "      <th>pvals</th>\n",
       "      <th>pvals_adj</th>\n",
       "      <th>pts</th>\n",
       "      <th>pts_rest</th>\n",
       "    </tr>\n",
       "    <tr>\n",
       "      <th>names</th>\n",
       "      <th></th>\n",
       "      <th></th>\n",
       "      <th></th>\n",
       "      <th></th>\n",
       "      <th></th>\n",
       "      <th></th>\n",
       "      <th></th>\n",
       "    </tr>\n",
       "  </thead>\n",
       "  <tbody>\n",
       "    <tr>\n",
       "      <th>CD74</th>\n",
       "      <td>B cells</td>\n",
       "      <td>151.864487</td>\n",
       "      <td>7.343440</td>\n",
       "      <td>0.0</td>\n",
       "      <td>0.0</td>\n",
       "      <td>0.990284</td>\n",
       "      <td>0.526109</td>\n",
       "    </tr>\n",
       "    <tr>\n",
       "      <th>HLA-DRA</th>\n",
       "      <td>B cells</td>\n",
       "      <td>130.348312</td>\n",
       "      <td>7.762211</td>\n",
       "      <td>0.0</td>\n",
       "      <td>0.0</td>\n",
       "      <td>0.971240</td>\n",
       "      <td>0.368371</td>\n",
       "    </tr>\n",
       "    <tr>\n",
       "      <th>HLA-DRB1</th>\n",
       "      <td>B cells</td>\n",
       "      <td>76.798622</td>\n",
       "      <td>6.471466</td>\n",
       "      <td>0.0</td>\n",
       "      <td>0.0</td>\n",
       "      <td>0.881461</td>\n",
       "      <td>0.337828</td>\n",
       "    </tr>\n",
       "    <tr>\n",
       "      <th>CD79A</th>\n",
       "      <td>B cells</td>\n",
       "      <td>73.298073</td>\n",
       "      <td>10.871271</td>\n",
       "      <td>0.0</td>\n",
       "      <td>0.0</td>\n",
       "      <td>0.690245</td>\n",
       "      <td>0.012670</td>\n",
       "    </tr>\n",
       "    <tr>\n",
       "      <th>HLA-DPA1</th>\n",
       "      <td>B cells</td>\n",
       "      <td>62.462658</td>\n",
       "      <td>5.916356</td>\n",
       "      <td>0.0</td>\n",
       "      <td>0.0</td>\n",
       "      <td>0.806840</td>\n",
       "      <td>0.295339</td>\n",
       "    </tr>\n",
       "    <tr>\n",
       "      <th>...</th>\n",
       "      <td>...</td>\n",
       "      <td>...</td>\n",
       "      <td>...</td>\n",
       "      <td>...</td>\n",
       "      <td>...</td>\n",
       "      <td>...</td>\n",
       "      <td>...</td>\n",
       "    </tr>\n",
       "    <tr>\n",
       "      <th>KYNU</th>\n",
       "      <td>NK cells</td>\n",
       "      <td>-64.092697</td>\n",
       "      <td>-5.744125</td>\n",
       "      <td>0.0</td>\n",
       "      <td>0.0</td>\n",
       "      <td>0.013046</td>\n",
       "      <td>0.261596</td>\n",
       "    </tr>\n",
       "    <tr>\n",
       "      <th>HLA-DRA</th>\n",
       "      <td>NK cells</td>\n",
       "      <td>-66.111351</td>\n",
       "      <td>-6.009887</td>\n",
       "      <td>0.0</td>\n",
       "      <td>0.0</td>\n",
       "      <td>0.071249</td>\n",
       "      <td>0.462875</td>\n",
       "    </tr>\n",
       "    <tr>\n",
       "      <th>LTB</th>\n",
       "      <td>NK cells</td>\n",
       "      <td>-66.117226</td>\n",
       "      <td>-5.653219</td>\n",
       "      <td>0.0</td>\n",
       "      <td>0.0</td>\n",
       "      <td>0.035625</td>\n",
       "      <td>0.376014</td>\n",
       "    </tr>\n",
       "    <tr>\n",
       "      <th>CCR7</th>\n",
       "      <td>NK cells</td>\n",
       "      <td>-67.192696</td>\n",
       "      <td>-5.917050</td>\n",
       "      <td>0.0</td>\n",
       "      <td>0.0</td>\n",
       "      <td>0.066232</td>\n",
       "      <td>0.477998</td>\n",
       "    </tr>\n",
       "    <tr>\n",
       "      <th>SPI1</th>\n",
       "      <td>NK cells</td>\n",
       "      <td>-67.715195</td>\n",
       "      <td>-6.118642</td>\n",
       "      <td>0.0</td>\n",
       "      <td>0.0</td>\n",
       "      <td>0.009533</td>\n",
       "      <td>0.258333</td>\n",
       "    </tr>\n",
       "  </tbody>\n",
       "</table>\n",
       "<p>285080 rows × 7 columns</p>\n",
       "</div>"
      ],
      "text/plain": [
       "            Status      scores  logfoldchanges  pvals  pvals_adj       pts  \\\n",
       "names                                                                        \n",
       "CD74       B cells  151.864487        7.343440    0.0        0.0  0.990284   \n",
       "HLA-DRA    B cells  130.348312        7.762211    0.0        0.0  0.971240   \n",
       "HLA-DRB1   B cells   76.798622        6.471466    0.0        0.0  0.881461   \n",
       "CD79A      B cells   73.298073       10.871271    0.0        0.0  0.690245   \n",
       "HLA-DPA1   B cells   62.462658        5.916356    0.0        0.0  0.806840   \n",
       "...            ...         ...             ...    ...        ...       ...   \n",
       "KYNU      NK cells  -64.092697       -5.744125    0.0        0.0  0.013046   \n",
       "HLA-DRA   NK cells  -66.111351       -6.009887    0.0        0.0  0.071249   \n",
       "LTB       NK cells  -66.117226       -5.653219    0.0        0.0  0.035625   \n",
       "CCR7      NK cells  -67.192696       -5.917050    0.0        0.0  0.066232   \n",
       "SPI1      NK cells  -67.715195       -6.118642    0.0        0.0  0.009533   \n",
       "\n",
       "          pts_rest  \n",
       "names               \n",
       "CD74      0.526109  \n",
       "HLA-DRA   0.368371  \n",
       "HLA-DRB1  0.337828  \n",
       "CD79A     0.012670  \n",
       "HLA-DPA1  0.295339  \n",
       "...            ...  \n",
       "KYNU      0.261596  \n",
       "HLA-DRA   0.462875  \n",
       "LTB       0.376014  \n",
       "CCR7      0.477998  \n",
       "SPI1      0.258333  \n",
       "\n",
       "[285080 rows x 7 columns]"
      ]
     },
     "execution_count": 17,
     "metadata": {},
     "output_type": "execute_result"
    }
   ],
   "source": [
    "df_deg"
   ]
  },
  {
   "cell_type": "code",
   "execution_count": 18,
   "id": "fd8e8342",
   "metadata": {},
   "outputs": [],
   "source": [
    "df_deg.to_csv(\"/Users/kang/Dropbox/Code/data/toppcell_test/DEGs_cell.txt\", sep = \"\\t\")"
   ]
  },
  {
   "cell_type": "code",
   "execution_count": 25,
   "id": "bdf047bb",
   "metadata": {},
   "outputs": [
    {
     "data": {
      "text/html": [
       "<div>\n",
       "<style scoped>\n",
       "    .dataframe tbody tr th:only-of-type {\n",
       "        vertical-align: middle;\n",
       "    }\n",
       "\n",
       "    .dataframe tbody tr th {\n",
       "        vertical-align: top;\n",
       "    }\n",
       "\n",
       "    .dataframe thead th {\n",
       "        text-align: right;\n",
       "    }\n",
       "</style>\n",
       "<table border=\"1\" class=\"dataframe\">\n",
       "  <thead>\n",
       "    <tr style=\"text-align: right;\">\n",
       "      <th></th>\n",
       "      <th>B cells</th>\n",
       "      <th>CD4 T cells</th>\n",
       "      <th>CD8 T cells</th>\n",
       "      <th>CD14+ Monocytes</th>\n",
       "      <th>Dendritic cells</th>\n",
       "      <th>FCGR3A+ Monocytes</th>\n",
       "      <th>Megakaryocytes</th>\n",
       "      <th>NK cells</th>\n",
       "    </tr>\n",
       "  </thead>\n",
       "  <tbody>\n",
       "    <tr>\n",
       "      <th>0</th>\n",
       "      <td>CD74</td>\n",
       "      <td>GIMAP7</td>\n",
       "      <td>CCL5</td>\n",
       "      <td>TYROBP</td>\n",
       "      <td>CD74</td>\n",
       "      <td>TYROBP</td>\n",
       "      <td>PPBP</td>\n",
       "      <td>NKG7</td>\n",
       "    </tr>\n",
       "    <tr>\n",
       "      <th>1</th>\n",
       "      <td>HLA-DRA</td>\n",
       "      <td>LTB</td>\n",
       "      <td>NKG7</td>\n",
       "      <td>C15orf48</td>\n",
       "      <td>HLA-DRA</td>\n",
       "      <td>TIMP1</td>\n",
       "      <td>GNG11</td>\n",
       "      <td>GNLY</td>\n",
       "    </tr>\n",
       "    <tr>\n",
       "      <th>2</th>\n",
       "      <td>HLA-DRB1</td>\n",
       "      <td>CCR7</td>\n",
       "      <td>APOBEC3G</td>\n",
       "      <td>FCER1G</td>\n",
       "      <td>HLA-DRB1</td>\n",
       "      <td>FCER1G</td>\n",
       "      <td>PF4</td>\n",
       "      <td>GZMB</td>\n",
       "    </tr>\n",
       "    <tr>\n",
       "      <th>3</th>\n",
       "      <td>CD79A</td>\n",
       "      <td>LDHB</td>\n",
       "      <td>CST7</td>\n",
       "      <td>CD63</td>\n",
       "      <td>HLA-DPA1</td>\n",
       "      <td>TYMP</td>\n",
       "      <td>SDPR</td>\n",
       "      <td>CCL5</td>\n",
       "    </tr>\n",
       "    <tr>\n",
       "      <th>4</th>\n",
       "      <td>HLA-DPA1</td>\n",
       "      <td>CD3D</td>\n",
       "      <td>B2M</td>\n",
       "      <td>TIMP1</td>\n",
       "      <td>HLA-DPB1</td>\n",
       "      <td>S100A11</td>\n",
       "      <td>NCOA4</td>\n",
       "      <td>APOBEC3G</td>\n",
       "    </tr>\n",
       "  </tbody>\n",
       "</table>\n",
       "</div>"
      ],
      "text/plain": [
       "    B cells CD4 T cells CD8 T cells CD14+ Monocytes Dendritic cells  \\\n",
       "0      CD74      GIMAP7        CCL5          TYROBP            CD74   \n",
       "1   HLA-DRA         LTB        NKG7        C15orf48         HLA-DRA   \n",
       "2  HLA-DRB1        CCR7    APOBEC3G          FCER1G        HLA-DRB1   \n",
       "3     CD79A        LDHB        CST7            CD63        HLA-DPA1   \n",
       "4  HLA-DPA1        CD3D         B2M           TIMP1        HLA-DPB1   \n",
       "\n",
       "  FCGR3A+ Monocytes Megakaryocytes  NK cells  \n",
       "0            TYROBP           PPBP      NKG7  \n",
       "1             TIMP1          GNG11      GNLY  \n",
       "2            FCER1G            PF4      GZMB  \n",
       "3              TYMP           SDPR      CCL5  \n",
       "4           S100A11          NCOA4  APOBEC3G  "
      ]
     },
     "execution_count": 25,
     "metadata": {},
     "output_type": "execute_result"
    }
   ],
   "source": [
    "a = pd.DataFrame(adata.uns['rank_genes_groups']['names']).head(5)\n",
    "a"
   ]
  },
  {
   "cell_type": "code",
   "execution_count": null,
   "id": "13cf6a92",
   "metadata": {},
   "outputs": [],
   "source": []
  }
 ],
 "metadata": {
  "kernelspec": {
   "display_name": "Python 3",
   "language": "python",
   "name": "python3"
  },
  "language_info": {
   "codemirror_mode": {
    "name": "ipython",
    "version": 3
   },
   "file_extension": ".py",
   "mimetype": "text/x-python",
   "name": "python",
   "nbconvert_exporter": "python",
   "pygments_lexer": "ipython3",
   "version": "3.7.10"
  }
 },
 "nbformat": 4,
 "nbformat_minor": 5
}
