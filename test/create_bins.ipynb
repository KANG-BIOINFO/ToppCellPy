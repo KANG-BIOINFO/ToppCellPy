{
 "cells": [
  {
   "cell_type": "code",
   "execution_count": 3,
   "id": "eaeaa73c",
   "metadata": {},
   "outputs": [],
   "source": [
    "import scanpy as sc\n",
    "import numpy as np\n",
    "import pandas as pd"
   ]
  },
  {
   "cell_type": "code",
   "execution_count": 4,
   "id": "270d90f2",
   "metadata": {},
   "outputs": [],
   "source": [
<<<<<<< HEAD
    "adata = sc.read(\"/Users/jinmr2/Dropbox/Code/data/batch2_all_raw_filtered.h5ad\")"
=======
    "adata = sc.read(\"./data/batch2_all_raw_filtered.h5ad\")"
>>>>>>> parent of 3362eb3 (0922-1)
   ]
  },
  {
   "cell_type": "code",
   "execution_count": 7,
   "id": "d42185b2",
   "metadata": {},
   "outputs": [
    {
     "data": {
      "text/plain": [
       "AnnData object with n_obs × n_vars = 24673 × 35635\n",
       "    obs: 'tsne1', 'tsne2', 'ind', 'stim', 'cluster', 'cell', 'multiplets'\n",
       "    var: 'gene symbol'"
      ]
     },
     "execution_count": 7,
     "metadata": {},
     "output_type": "execute_result"
    }
   ],
   "source": [
    "adata"
   ]
  },
  {
   "cell_type": "code",
   "execution_count": 6,
   "id": "3d01d1eb",
   "metadata": {},
   "outputs": [
    {
     "data": {
      "text/plain": [
       "array(['ctrl', 'stim'], dtype=object)"
      ]
     },
     "execution_count": 6,
     "metadata": {},
     "output_type": "execute_result"
    }
   ],
   "source": [
    "np.unique(adata.obs[\"stim\"])"
   ]
  },
  {
   "cell_type": "code",
   "execution_count": 8,
   "id": "a1adc3c8",
   "metadata": {},
   "outputs": [
    {
     "data": {
      "text/plain": [
       "array(['B cells', 'CD14+ Monocytes', 'CD4 T cells', 'CD8 T cells',\n",
       "       'Dendritic cells', 'FCGR3A+ Monocytes', 'Megakaryocytes',\n",
       "       'NK cells'], dtype=object)"
      ]
     },
     "execution_count": 8,
     "metadata": {},
     "output_type": "execute_result"
    }
   ],
   "source": [
    "np.unique(adata.obs[\"cell\"])"
   ]
  },
  {
   "cell_type": "code",
   "execution_count": 9,
   "id": "1d5d5c37",
   "metadata": {},
   "outputs": [
    {
     "data": {
      "text/html": [
       "<div>\n",
       "<style scoped>\n",
       "    .dataframe tbody tr th:only-of-type {\n",
       "        vertical-align: middle;\n",
       "    }\n",
       "\n",
       "    .dataframe tbody tr th {\n",
       "        vertical-align: top;\n",
       "    }\n",
       "\n",
       "    .dataframe thead th {\n",
       "        text-align: right;\n",
       "    }\n",
       "</style>\n",
       "<table border=\"1\" class=\"dataframe\">\n",
       "  <thead>\n",
       "    <tr style=\"text-align: right;\">\n",
       "      <th></th>\n",
       "      <th>tsne1</th>\n",
       "      <th>tsne2</th>\n",
       "      <th>ind</th>\n",
       "      <th>stim</th>\n",
       "      <th>cluster</th>\n",
       "      <th>cell</th>\n",
       "      <th>multiplets</th>\n",
       "    </tr>\n",
       "  </thead>\n",
       "  <tbody>\n",
       "    <tr>\n",
       "      <th>AAACATACATTTCC-1</th>\n",
       "      <td>-27.640373</td>\n",
       "      <td>14.966629</td>\n",
       "      <td>1016</td>\n",
       "      <td>ctrl</td>\n",
       "      <td>9</td>\n",
       "      <td>CD14+ Monocytes</td>\n",
       "      <td>singlet</td>\n",
       "    </tr>\n",
       "    <tr>\n",
       "      <th>AAACATACCAGAAA-1</th>\n",
       "      <td>-27.493646</td>\n",
       "      <td>28.924885</td>\n",
       "      <td>1256</td>\n",
       "      <td>ctrl</td>\n",
       "      <td>9</td>\n",
       "      <td>CD14+ Monocytes</td>\n",
       "      <td>singlet</td>\n",
       "    </tr>\n",
       "    <tr>\n",
       "      <th>AAACATACCATGCA-1</th>\n",
       "      <td>-10.468194</td>\n",
       "      <td>-5.984389</td>\n",
       "      <td>1488</td>\n",
       "      <td>ctrl</td>\n",
       "      <td>3</td>\n",
       "      <td>CD4 T cells</td>\n",
       "      <td>singlet</td>\n",
       "    </tr>\n",
       "    <tr>\n",
       "      <th>AAACATACCTCGCT-1</th>\n",
       "      <td>-24.367997</td>\n",
       "      <td>20.429285</td>\n",
       "      <td>1256</td>\n",
       "      <td>ctrl</td>\n",
       "      <td>9</td>\n",
       "      <td>CD14+ Monocytes</td>\n",
       "      <td>singlet</td>\n",
       "    </tr>\n",
       "    <tr>\n",
       "      <th>AAACATACCTGGTA-1</th>\n",
       "      <td>27.952170</td>\n",
       "      <td>24.159738</td>\n",
       "      <td>1039</td>\n",
       "      <td>ctrl</td>\n",
       "      <td>4</td>\n",
       "      <td>Dendritic cells</td>\n",
       "      <td>singlet</td>\n",
       "    </tr>\n",
       "  </tbody>\n",
       "</table>\n",
       "</div>"
      ],
      "text/plain": [
       "                      tsne1      tsne2   ind  stim  cluster             cell  \\\n",
       "AAACATACATTTCC-1 -27.640373  14.966629  1016  ctrl        9  CD14+ Monocytes   \n",
       "AAACATACCAGAAA-1 -27.493646  28.924885  1256  ctrl        9  CD14+ Monocytes   \n",
       "AAACATACCATGCA-1 -10.468194  -5.984389  1488  ctrl        3      CD4 T cells   \n",
       "AAACATACCTCGCT-1 -24.367997  20.429285  1256  ctrl        9  CD14+ Monocytes   \n",
       "AAACATACCTGGTA-1  27.952170  24.159738  1039  ctrl        4  Dendritic cells   \n",
       "\n",
       "                 multiplets  \n",
       "AAACATACATTTCC-1    singlet  \n",
       "AAACATACCAGAAA-1    singlet  \n",
       "AAACATACCATGCA-1    singlet  \n",
       "AAACATACCTCGCT-1    singlet  \n",
       "AAACATACCTGGTA-1    singlet  "
      ]
     },
     "execution_count": 9,
     "metadata": {},
     "output_type": "execute_result"
    }
   ],
   "source": [
    "adata.obs.head()"
   ]
  },
  {
   "cell_type": "code",
   "execution_count": 15,
   "id": "9545dfb5",
   "metadata": {},
   "outputs": [],
   "source": [
    "sc.pp.filter_cells(adata, min_counts = 0)"
   ]
  },
  {
   "cell_type": "markdown",
   "id": "c52eb356",
   "metadata": {},
   "source": [
    "### "
   ]
  },
  {
   "cell_type": "code",
   "execution_count": 16,
   "id": "182db032",
   "metadata": {},
   "outputs": [
    {
     "data": {
      "text/plain": [
       "AnnData object with n_obs × n_vars = 24673 × 35635\n",
       "    obs: 'tsne1', 'tsne2', 'ind', 'stim', 'cluster', 'cell', 'multiplets', 'n_counts'\n",
       "    var: 'gene symbol'"
      ]
     },
     "execution_count": 16,
     "metadata": {},
     "output_type": "execute_result"
    }
   ],
   "source": [
    "adata"
   ]
  },
  {
   "cell_type": "code",
   "execution_count": 17,
   "id": "8cc6eb08",
   "metadata": {},
   "outputs": [],
   "source": [
    "cell_meta = adata.obs"
   ]
  },
  {
   "cell_type": "code",
   "execution_count": 19,
   "id": "dd4ffe93",
   "metadata": {},
   "outputs": [
    {
     "data": {
      "text/html": [
       "<div>\n",
       "<style scoped>\n",
       "    .dataframe tbody tr th:only-of-type {\n",
       "        vertical-align: middle;\n",
       "    }\n",
       "\n",
       "    .dataframe tbody tr th {\n",
       "        vertical-align: top;\n",
       "    }\n",
       "\n",
       "    .dataframe thead th {\n",
       "        text-align: right;\n",
       "    }\n",
       "</style>\n",
       "<table border=\"1\" class=\"dataframe\">\n",
       "  <thead>\n",
       "    <tr style=\"text-align: right;\">\n",
       "      <th></th>\n",
       "      <th>tsne1</th>\n",
       "      <th>tsne2</th>\n",
       "      <th>ind</th>\n",
       "      <th>stim</th>\n",
       "      <th>cluster</th>\n",
       "      <th>cell</th>\n",
       "      <th>multiplets</th>\n",
       "      <th>n_counts</th>\n",
       "    </tr>\n",
       "  </thead>\n",
       "  <tbody>\n",
       "    <tr>\n",
       "      <th>AAACATACATTTCC-1</th>\n",
       "      <td>-27.640373</td>\n",
       "      <td>14.966629</td>\n",
       "      <td>1016</td>\n",
       "      <td>ctrl</td>\n",
       "      <td>9</td>\n",
       "      <td>CD14+ Monocytes</td>\n",
       "      <td>singlet</td>\n",
       "      <td>3018.0</td>\n",
       "    </tr>\n",
       "    <tr>\n",
       "      <th>AAACATACCAGAAA-1</th>\n",
       "      <td>-27.493646</td>\n",
       "      <td>28.924885</td>\n",
       "      <td>1256</td>\n",
       "      <td>ctrl</td>\n",
       "      <td>9</td>\n",
       "      <td>CD14+ Monocytes</td>\n",
       "      <td>singlet</td>\n",
       "      <td>2481.0</td>\n",
       "    </tr>\n",
       "    <tr>\n",
       "      <th>AAACATACCATGCA-1</th>\n",
       "      <td>-10.468194</td>\n",
       "      <td>-5.984389</td>\n",
       "      <td>1488</td>\n",
       "      <td>ctrl</td>\n",
       "      <td>3</td>\n",
       "      <td>CD4 T cells</td>\n",
       "      <td>singlet</td>\n",
       "      <td>703.0</td>\n",
       "    </tr>\n",
       "    <tr>\n",
       "      <th>AAACATACCTCGCT-1</th>\n",
       "      <td>-24.367997</td>\n",
       "      <td>20.429285</td>\n",
       "      <td>1256</td>\n",
       "      <td>ctrl</td>\n",
       "      <td>9</td>\n",
       "      <td>CD14+ Monocytes</td>\n",
       "      <td>singlet</td>\n",
       "      <td>3420.0</td>\n",
       "    </tr>\n",
       "    <tr>\n",
       "      <th>AAACATACCTGGTA-1</th>\n",
       "      <td>27.952170</td>\n",
       "      <td>24.159738</td>\n",
       "      <td>1039</td>\n",
       "      <td>ctrl</td>\n",
       "      <td>4</td>\n",
       "      <td>Dendritic cells</td>\n",
       "      <td>singlet</td>\n",
       "      <td>3158.0</td>\n",
       "    </tr>\n",
       "  </tbody>\n",
       "</table>\n",
       "</div>"
      ],
      "text/plain": [
       "                      tsne1      tsne2   ind  stim  cluster             cell  \\\n",
       "AAACATACATTTCC-1 -27.640373  14.966629  1016  ctrl        9  CD14+ Monocytes   \n",
       "AAACATACCAGAAA-1 -27.493646  28.924885  1256  ctrl        9  CD14+ Monocytes   \n",
       "AAACATACCATGCA-1 -10.468194  -5.984389  1488  ctrl        3      CD4 T cells   \n",
       "AAACATACCTCGCT-1 -24.367997  20.429285  1256  ctrl        9  CD14+ Monocytes   \n",
       "AAACATACCTGGTA-1  27.952170  24.159738  1039  ctrl        4  Dendritic cells   \n",
       "\n",
       "                 multiplets  n_counts  \n",
       "AAACATACATTTCC-1    singlet    3018.0  \n",
       "AAACATACCAGAAA-1    singlet    2481.0  \n",
       "AAACATACCATGCA-1    singlet     703.0  \n",
       "AAACATACCTCGCT-1    singlet    3420.0  \n",
       "AAACATACCTGGTA-1    singlet    3158.0  "
      ]
     },
     "execution_count": 19,
     "metadata": {},
     "output_type": "execute_result"
    }
   ],
   "source": [
    "cell_meta.head()"
   ]
  },
  {
   "cell_type": "code",
   "execution_count": 22,
   "id": "9ac359a3",
   "metadata": {},
   "outputs": [],
   "source": [
    "cell_meta.sort_values(\"n_counts\", ascending=False, inplace = True)"
   ]
  },
  {
   "cell_type": "code",
   "execution_count": 23,
   "id": "be5a35fe",
   "metadata": {},
   "outputs": [
    {
     "data": {
      "text/html": [
       "<div>\n",
       "<style scoped>\n",
       "    .dataframe tbody tr th:only-of-type {\n",
       "        vertical-align: middle;\n",
       "    }\n",
       "\n",
       "    .dataframe tbody tr th {\n",
       "        vertical-align: top;\n",
       "    }\n",
       "\n",
       "    .dataframe thead th {\n",
       "        text-align: right;\n",
       "    }\n",
       "</style>\n",
       "<table border=\"1\" class=\"dataframe\">\n",
       "  <thead>\n",
       "    <tr style=\"text-align: right;\">\n",
       "      <th></th>\n",
       "      <th>tsne1</th>\n",
       "      <th>tsne2</th>\n",
       "      <th>ind</th>\n",
       "      <th>stim</th>\n",
       "      <th>cluster</th>\n",
       "      <th>cell</th>\n",
       "      <th>multiplets</th>\n",
       "      <th>n_counts</th>\n",
       "    </tr>\n",
       "  </thead>\n",
       "  <tbody>\n",
       "    <tr>\n",
       "      <th>GACGAACTGTCAAC-1</th>\n",
       "      <td>11.478752</td>\n",
       "      <td>-13.746289</td>\n",
       "      <td>1039</td>\n",
       "      <td>stim</td>\n",
       "      <td>4</td>\n",
       "      <td>B cells</td>\n",
       "      <td>singlet</td>\n",
       "      <td>11819.0</td>\n",
       "    </tr>\n",
       "    <tr>\n",
       "      <th>ATCACGGAATGCCA-1</th>\n",
       "      <td>11.474932</td>\n",
       "      <td>-13.773944</td>\n",
       "      <td>1016</td>\n",
       "      <td>stim</td>\n",
       "      <td>10</td>\n",
       "      <td>CD8 T cells</td>\n",
       "      <td>singlet</td>\n",
       "      <td>10036.0</td>\n",
       "    </tr>\n",
       "    <tr>\n",
       "      <th>CCGTAAGAGGTGAG-1</th>\n",
       "      <td>-6.013250</td>\n",
       "      <td>27.716675</td>\n",
       "      <td>1015</td>\n",
       "      <td>stim</td>\n",
       "      <td>4</td>\n",
       "      <td>Dendritic cells</td>\n",
       "      <td>singlet</td>\n",
       "      <td>8182.0</td>\n",
       "    </tr>\n",
       "    <tr>\n",
       "      <th>AGTGACTGCTCTTA-1</th>\n",
       "      <td>-26.149713</td>\n",
       "      <td>6.838906</td>\n",
       "      <td>1015</td>\n",
       "      <td>ctrl</td>\n",
       "      <td>9</td>\n",
       "      <td>CD14+ Monocytes</td>\n",
       "      <td>singlet</td>\n",
       "      <td>7814.0</td>\n",
       "    </tr>\n",
       "    <tr>\n",
       "      <th>CCATCCGATCTACT-1</th>\n",
       "      <td>-10.971405</td>\n",
       "      <td>31.993544</td>\n",
       "      <td>1244</td>\n",
       "      <td>ctrl</td>\n",
       "      <td>9</td>\n",
       "      <td>FCGR3A+ Monocytes</td>\n",
       "      <td>singlet</td>\n",
       "      <td>7735.0</td>\n",
       "    </tr>\n",
       "  </tbody>\n",
       "</table>\n",
       "</div>"
      ],
      "text/plain": [
       "                      tsne1      tsne2   ind  stim  cluster  \\\n",
       "GACGAACTGTCAAC-1  11.478752 -13.746289  1039  stim        4   \n",
       "ATCACGGAATGCCA-1  11.474932 -13.773944  1016  stim       10   \n",
       "CCGTAAGAGGTGAG-1  -6.013250  27.716675  1015  stim        4   \n",
       "AGTGACTGCTCTTA-1 -26.149713   6.838906  1015  ctrl        9   \n",
       "CCATCCGATCTACT-1 -10.971405  31.993544  1244  ctrl        9   \n",
       "\n",
       "                               cell multiplets  n_counts  \n",
       "GACGAACTGTCAAC-1            B cells    singlet   11819.0  \n",
       "ATCACGGAATGCCA-1        CD8 T cells    singlet   10036.0  \n",
       "CCGTAAGAGGTGAG-1    Dendritic cells    singlet    8182.0  \n",
       "AGTGACTGCTCTTA-1    CD14+ Monocytes    singlet    7814.0  \n",
       "CCATCCGATCTACT-1  FCGR3A+ Monocytes    singlet    7735.0  "
      ]
     },
     "execution_count": 23,
     "metadata": {},
     "output_type": "execute_result"
    }
   ],
   "source": [
    "cell_meta.head()"
   ]
  },
  {
   "cell_type": "code",
   "execution_count": null,
   "id": "27de26f9",
   "metadata": {},
   "outputs": [],
   "source": [
    "list(cell_meta[\"cell\"].)"
   ]
  },
  {
   "cell_type": "code",
   "execution_count": 1,
   "id": "d4b950fd",
   "metadata": {},
   "outputs": [],
   "source": [
    "def get_chunk_id(a):\n",
    "    chunk_ids = []\n",
    "    for i in range(len(a)):\n",
    "        chunk_ids += [i] * len(a[i])\n",
    "    return chunk_ids"
   ]
  },
  {
   "cell_type": "code",
   "execution_count": 6,
   "id": "b8d0f626",
   "metadata": {},
   "outputs": [
    {
     "data": {
      "text/plain": [
       "array(['AAACATACATTTCC-1', 'AAACATACCAGAAA-1', 'AAACATACCATGCA-1',\n",
       "       'AAACATACCTCGCT-1', 'AAACATACCTGGTA-1', 'AAACATACGATGAA-1',\n",
       "       'AAACATACGCCAAT-1', 'AAACATACGCTTCC-1', 'AAACATACGGCATT-1',\n",
       "       'AAACATACGTGTAC-1', 'AAACATACGTTGTG-1', 'AAACATACTGCGTA-1',\n",
       "       'AAACATACTGCTGA-1', 'AAACATACTGGTCA-1', 'AAACATTGAGTGTC-1',\n",
       "       'AAACATTGCTCGAA-1', 'AAACATTGCTTCGC-1', 'AAACATTGTACGCA-1',\n",
       "       'AAACCGTGAGCCAT-1', 'AAACCGTGCATTTC-1', 'AAACCGTGCGCCTT-1',\n",
       "       'AAACCGTGGAGGCA-1', 'AAACCGTGGGTGGA-1', 'AAACCGTGGTACGT-1',\n",
       "       'AAACCGTGGTCAAC-1', 'AAACCGTGTGCTAG-1', 'AAACGCACAGTACC-1',\n",
       "       'AAACGCACATTCGG-1', 'AAACGCACCAACCA-1', 'AAACGCACCCACCT-1',\n",
       "       'AAACGCACGCTGTA-1'], dtype=object)"
      ]
     },
     "execution_count": 6,
     "metadata": {},
     "output_type": "execute_result"
    }
   ],
   "source": [
    "cells = adata.obs.index.values[:31]\n",
    "cells"
   ]
  },
  {
   "cell_type": "code",
   "execution_count": 8,
   "id": "90417739",
   "metadata": {},
   "outputs": [
    {
     "data": {
      "text/plain": [
       "[0,\n",
       " 0,\n",
       " 0,\n",
       " 0,\n",
       " 0,\n",
       " 0,\n",
       " 0,\n",
       " 1,\n",
       " 1,\n",
       " 1,\n",
       " 1,\n",
       " 1,\n",
       " 1,\n",
       " 2,\n",
       " 2,\n",
       " 2,\n",
       " 2,\n",
       " 2,\n",
       " 2,\n",
       " 3,\n",
       " 3,\n",
       " 3,\n",
       " 3,\n",
       " 3,\n",
       " 3,\n",
       " 4,\n",
       " 4,\n",
       " 4,\n",
       " 4,\n",
       " 4,\n",
       " 4]"
      ]
     },
     "execution_count": 8,
     "metadata": {},
     "output_type": "execute_result"
    }
   ],
   "source": [
    "get_chunk_id(np.array_split(cells, 5))"
   ]
  },
  {
   "cell_type": "code",
   "execution_count": null,
   "id": "5ac5f210",
   "metadata": {},
   "outputs": [],
   "source": []
  }
 ],
 "metadata": {
  "kernelspec": {
   "display_name": "Python 3 (ipykernel)",
   "language": "python",
   "name": "python3"
  },
  "language_info": {
   "codemirror_mode": {
    "name": "ipython",
    "version": 3
   },
   "file_extension": ".py",
   "mimetype": "text/x-python",
   "name": "python",
   "nbconvert_exporter": "python",
   "pygments_lexer": "ipython3",
   "version": "3.7.10"
  }
 },
 "nbformat": 4,
 "nbformat_minor": 5
}
