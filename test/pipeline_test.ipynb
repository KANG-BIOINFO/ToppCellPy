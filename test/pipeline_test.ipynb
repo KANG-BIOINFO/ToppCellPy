{
 "cells": [
  {
   "cell_type": "code",
   "execution_count": 23,
   "id": "c2b9fe4f",
   "metadata": {},
   "outputs": [],
   "source": [
    "import pandas as pd \n",
    "import numpy as np \n",
    "import scanpy as sc\n",
    "import sys\n",
    "from importlib import reload\n",
    "\n",
    "sys.path.insert(1, '/Users/kang/Dropbox/Code/ToppCell-Python/')\n",
    "import ToppCell_Python"
   ]
  },
  {
   "cell_type": "code",
   "execution_count": 20,
   "id": "e3608498",
   "metadata": {},
   "outputs": [],
   "source": [
    "tp = reload(tp)"
   ]
  },
  {
   "cell_type": "code",
   "execution_count": 16,
   "id": "b3130bcc",
   "metadata": {},
   "outputs": [],
   "source": [
    "path = \"/Users/kang/Dropbox/Code/data/toppcell_test/\"\n",
    "adata = sc.read(\"/Users/kang/Dropbox/Code/data/batch2_all_normalized_filtered.h5ad\")"
   ]
  },
  {
   "cell_type": "code",
   "execution_count": 24,
   "id": "1946d41c",
   "metadata": {},
   "outputs": [],
   "source": [
    "shred = ToppCell_Python.Shred(adata = adata, \n",
    "              shred_plan = [\"stim\", \"cell\", \"stim+cell|stim\"],\n",
    "              bin_group = [\"cell\", \"stim\"],\n",
    "              order_bins = None,\n",
    "              order_modules = None,\n",
    "              method = \"wilcoxon\")"
   ]
  },
  {
   "cell_type": "code",
   "execution_count": 21,
   "id": "00712421",
   "metadata": {},
   "outputs": [],
   "source": [
    "?tp.Shred"
   ]
  },
  {
   "cell_type": "code",
   "execution_count": 22,
   "id": "3e39b807",
   "metadata": {},
   "outputs": [],
   "source": [
    "?reload"
   ]
  },
  {
   "cell_type": "code",
   "execution_count": 33,
   "id": "24edc733",
   "metadata": {},
   "outputs": [
    {
     "data": {
      "text/plain": [
       "['a', 'b', 'c']"
      ]
     },
     "execution_count": 33,
     "metadata": {},
     "output_type": "execute_result"
    }
   ],
   "source": [
    "a = [\"a\"]\n",
    "b = \"b+c\"\n",
    "a + b.split(\"+\")"
   ]
  },
  {
   "cell_type": "code",
   "execution_count": 1,
   "id": "ecc528a5",
   "metadata": {},
   "outputs": [],
   "source": [
    "from setuptools import setup"
   ]
  },
  {
   "cell_type": "code",
   "execution_count": 2,
   "id": "5fc8f89a",
   "metadata": {},
   "outputs": [],
   "source": [
    "?setup"
   ]
  },
  {
   "cell_type": "code",
   "execution_count": null,
   "id": "92ae95a8",
   "metadata": {},
   "outputs": [],
   "source": []
  }
 ],
 "metadata": {
  "kernelspec": {
   "display_name": "Python 3",
   "language": "python",
   "name": "python3"
  },
  "language_info": {
   "codemirror_mode": {
    "name": "ipython",
    "version": 3
   },
   "file_extension": ".py",
   "mimetype": "text/x-python",
   "name": "python",
   "nbconvert_exporter": "python",
   "pygments_lexer": "ipython3",
   "version": "3.7.10"
  }
 },
 "nbformat": 4,
 "nbformat_minor": 5
}
