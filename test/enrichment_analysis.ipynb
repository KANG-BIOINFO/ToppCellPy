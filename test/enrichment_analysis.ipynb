{
 "cells": [
  {
   "cell_type": "code",
   "execution_count": 1,
   "id": "c8f8ffae",
   "metadata": {},
   "outputs": [],
   "source": [
    "import pandas as pd\n",
    "import numpy as np"
   ]
  },
  {
   "cell_type": "markdown",
   "id": "fb838b22",
   "metadata": {},
   "source": [
    "### data loading"
   ]
  },
  {
   "cell_type": "code",
   "execution_count": 2,
   "id": "93ee3b3e",
   "metadata": {},
   "outputs": [],
   "source": [
    "gene_list = [\"SLC31A2\",\"SPHK1\",\"LYZ\",\"PPIF\",\"LST1\",\"IL4I1\",\"CXCL16\",\"FAM26F\",\"KYNU\",\"IDO1\",\"MXD1\",\"IL1RN\"]"
   ]
  },
  {
   "cell_type": "code",
   "execution_count": 3,
   "id": "e7c54001",
   "metadata": {},
   "outputs": [],
   "source": [
    "database_path = \"/Users/kang/Dropbox/Code/data/ToppGene_Data/\""
   ]
  },
  {
   "cell_type": "code",
   "execution_count": 13,
   "id": "8992f73a",
   "metadata": {},
   "outputs": [],
   "source": [
    "df_cellcompartment = pd.read_csv(database_path + \"GeneOntologyCellularComponent.txt\", sep = \"\\t\", header = 0, index_col = 0)"
   ]
  },
  {
   "cell_type": "code",
   "execution_count": 14,
   "id": "1d015896",
   "metadata": {},
   "outputs": [
    {
     "data": {
      "text/html": [
       "<div>\n",
       "<style scoped>\n",
       "    .dataframe tbody tr th:only-of-type {\n",
       "        vertical-align: middle;\n",
       "    }\n",
       "\n",
       "    .dataframe tbody tr th {\n",
       "        vertical-align: top;\n",
       "    }\n",
       "\n",
       "    .dataframe thead th {\n",
       "        text-align: right;\n",
       "    }\n",
       "</style>\n",
       "<table border=\"1\" class=\"dataframe\">\n",
       "  <thead>\n",
       "    <tr style=\"text-align: right;\">\n",
       "      <th></th>\n",
       "      <th>symbol</th>\n",
       "      <th>concept_id</th>\n",
       "      <th>concept_name</th>\n",
       "      <th>concept_origin</th>\n",
       "      <th>url</th>\n",
       "    </tr>\n",
       "    <tr>\n",
       "      <th>gene_id</th>\n",
       "      <th></th>\n",
       "      <th></th>\n",
       "      <th></th>\n",
       "      <th></th>\n",
       "      <th></th>\n",
       "    </tr>\n",
       "  </thead>\n",
       "  <tbody>\n",
       "    <tr>\n",
       "      <th>387712</th>\n",
       "      <td>ENO4</td>\n",
       "      <td>GO:0000015</td>\n",
       "      <td>phosphopyruvate hydratase complex</td>\n",
       "      <td></td>\n",
       "      <td>http://www.ebi.ac.uk/ego/DisplayGoTerm?id=GO:0...</td>\n",
       "    </tr>\n",
       "    <tr>\n",
       "      <th>2023</th>\n",
       "      <td>ENO1</td>\n",
       "      <td>GO:0000015</td>\n",
       "      <td>phosphopyruvate hydratase complex</td>\n",
       "      <td></td>\n",
       "      <td>http://www.ebi.ac.uk/ego/DisplayGoTerm?id=GO:0...</td>\n",
       "    </tr>\n",
       "    <tr>\n",
       "      <th>2026</th>\n",
       "      <td>ENO2</td>\n",
       "      <td>GO:0000015</td>\n",
       "      <td>phosphopyruvate hydratase complex</td>\n",
       "      <td></td>\n",
       "      <td>http://www.ebi.ac.uk/ego/DisplayGoTerm?id=GO:0...</td>\n",
       "    </tr>\n",
       "    <tr>\n",
       "      <th>2027</th>\n",
       "      <td>ENO3</td>\n",
       "      <td>GO:0000015</td>\n",
       "      <td>phosphopyruvate hydratase complex</td>\n",
       "      <td></td>\n",
       "      <td>http://www.ebi.ac.uk/ego/DisplayGoTerm?id=GO:0...</td>\n",
       "    </tr>\n",
       "    <tr>\n",
       "      <th>1161</th>\n",
       "      <td>ERCC8</td>\n",
       "      <td>GO:0000109</td>\n",
       "      <td>nucleotide-excision repair complex</td>\n",
       "      <td></td>\n",
       "      <td>http://www.ebi.ac.uk/ego/DisplayGoTerm?id=GO:0...</td>\n",
       "    </tr>\n",
       "  </tbody>\n",
       "</table>\n",
       "</div>"
      ],
      "text/plain": [
       "        symbol  concept_id                        concept_name concept_origin  \\\n",
       "gene_id                                                                         \n",
       "387712    ENO4  GO:0000015   phosphopyruvate hydratase complex                  \n",
       "2023      ENO1  GO:0000015   phosphopyruvate hydratase complex                  \n",
       "2026      ENO2  GO:0000015   phosphopyruvate hydratase complex                  \n",
       "2027      ENO3  GO:0000015   phosphopyruvate hydratase complex                  \n",
       "1161     ERCC8  GO:0000109  nucleotide-excision repair complex                  \n",
       "\n",
       "                                                       url  \n",
       "gene_id                                                     \n",
       "387712   http://www.ebi.ac.uk/ego/DisplayGoTerm?id=GO:0...  \n",
       "2023     http://www.ebi.ac.uk/ego/DisplayGoTerm?id=GO:0...  \n",
       "2026     http://www.ebi.ac.uk/ego/DisplayGoTerm?id=GO:0...  \n",
       "2027     http://www.ebi.ac.uk/ego/DisplayGoTerm?id=GO:0...  \n",
       "1161     http://www.ebi.ac.uk/ego/DisplayGoTerm?id=GO:0...  "
      ]
     },
     "execution_count": 14,
     "metadata": {},
     "output_type": "execute_result"
    }
   ],
   "source": [
    "df_cellcompartment.head()"
   ]
  },
  {
   "cell_type": "code",
   "execution_count": 19,
   "id": "e5ed94e9",
   "metadata": {},
   "outputs": [
    {
     "data": {
      "text/plain": [
       "11"
      ]
     },
     "execution_count": 19,
     "metadata": {},
     "output_type": "execute_result"
    }
   ],
   "source": [
    "gene_list = np.intersect1d(np.unique(gene_list), np.unique(df_cellcompartment[\"symbol\"]))\n",
    "len(gene_list)"
   ]
  },
  {
   "cell_type": "markdown",
   "id": "6ea0db55",
   "metadata": {},
   "source": [
    "### get a pool"
   ]
  },
  {
   "cell_type": "code",
   "execution_count": 15,
   "id": "99643113",
   "metadata": {},
   "outputs": [],
   "source": [
    "test = df_cellcompartment.copy()\n",
    "test.set_index(\"symbol\", inplace = True)"
   ]
  },
  {
   "cell_type": "code",
   "execution_count": 16,
   "id": "658388c4",
   "metadata": {},
   "outputs": [
    {
     "data": {
      "text/html": [
       "<div>\n",
       "<style scoped>\n",
       "    .dataframe tbody tr th:only-of-type {\n",
       "        vertical-align: middle;\n",
       "    }\n",
       "\n",
       "    .dataframe tbody tr th {\n",
       "        vertical-align: top;\n",
       "    }\n",
       "\n",
       "    .dataframe thead th {\n",
       "        text-align: right;\n",
       "    }\n",
       "</style>\n",
       "<table border=\"1\" class=\"dataframe\">\n",
       "  <thead>\n",
       "    <tr style=\"text-align: right;\">\n",
       "      <th></th>\n",
       "      <th>concept_id</th>\n",
       "      <th>concept_name</th>\n",
       "      <th>concept_origin</th>\n",
       "      <th>url</th>\n",
       "    </tr>\n",
       "    <tr>\n",
       "      <th>symbol</th>\n",
       "      <th></th>\n",
       "      <th></th>\n",
       "      <th></th>\n",
       "      <th></th>\n",
       "    </tr>\n",
       "  </thead>\n",
       "  <tbody>\n",
       "    <tr>\n",
       "      <th>ENO4</th>\n",
       "      <td>GO:0000015</td>\n",
       "      <td>phosphopyruvate hydratase complex</td>\n",
       "      <td></td>\n",
       "      <td>http://www.ebi.ac.uk/ego/DisplayGoTerm?id=GO:0...</td>\n",
       "    </tr>\n",
       "    <tr>\n",
       "      <th>ENO1</th>\n",
       "      <td>GO:0000015</td>\n",
       "      <td>phosphopyruvate hydratase complex</td>\n",
       "      <td></td>\n",
       "      <td>http://www.ebi.ac.uk/ego/DisplayGoTerm?id=GO:0...</td>\n",
       "    </tr>\n",
       "    <tr>\n",
       "      <th>ENO2</th>\n",
       "      <td>GO:0000015</td>\n",
       "      <td>phosphopyruvate hydratase complex</td>\n",
       "      <td></td>\n",
       "      <td>http://www.ebi.ac.uk/ego/DisplayGoTerm?id=GO:0...</td>\n",
       "    </tr>\n",
       "    <tr>\n",
       "      <th>ENO3</th>\n",
       "      <td>GO:0000015</td>\n",
       "      <td>phosphopyruvate hydratase complex</td>\n",
       "      <td></td>\n",
       "      <td>http://www.ebi.ac.uk/ego/DisplayGoTerm?id=GO:0...</td>\n",
       "    </tr>\n",
       "    <tr>\n",
       "      <th>ERCC8</th>\n",
       "      <td>GO:0000109</td>\n",
       "      <td>nucleotide-excision repair complex</td>\n",
       "      <td></td>\n",
       "      <td>http://www.ebi.ac.uk/ego/DisplayGoTerm?id=GO:0...</td>\n",
       "    </tr>\n",
       "  </tbody>\n",
       "</table>\n",
       "</div>"
      ],
      "text/plain": [
       "        concept_id                        concept_name concept_origin  \\\n",
       "symbol                                                                  \n",
       "ENO4    GO:0000015   phosphopyruvate hydratase complex                  \n",
       "ENO1    GO:0000015   phosphopyruvate hydratase complex                  \n",
       "ENO2    GO:0000015   phosphopyruvate hydratase complex                  \n",
       "ENO3    GO:0000015   phosphopyruvate hydratase complex                  \n",
       "ERCC8   GO:0000109  nucleotide-excision repair complex                  \n",
       "\n",
       "                                                      url  \n",
       "symbol                                                     \n",
       "ENO4    http://www.ebi.ac.uk/ego/DisplayGoTerm?id=GO:0...  \n",
       "ENO1    http://www.ebi.ac.uk/ego/DisplayGoTerm?id=GO:0...  \n",
       "ENO2    http://www.ebi.ac.uk/ego/DisplayGoTerm?id=GO:0...  \n",
       "ENO3    http://www.ebi.ac.uk/ego/DisplayGoTerm?id=GO:0...  \n",
       "ERCC8   http://www.ebi.ac.uk/ego/DisplayGoTerm?id=GO:0...  "
      ]
     },
     "execution_count": 16,
     "metadata": {},
     "output_type": "execute_result"
    }
   ],
   "source": [
    "test.head()"
   ]
  },
  {
   "cell_type": "code",
   "execution_count": 24,
   "id": "d0b9b409",
   "metadata": {},
   "outputs": [
    {
     "data": {
      "text/plain": [
       "107"
      ]
     },
     "execution_count": 24,
     "metadata": {},
     "output_type": "execute_result"
    }
   ],
   "source": [
    "pool = np.unique(test.loc[gene_list,\"concept_name\"])\n",
    "len(pool)"
   ]
  },
  {
   "cell_type": "markdown",
   "id": "8c4b39ad",
   "metadata": {},
   "source": [
    "### enrichment for each concept"
   ]
  },
  {
   "cell_type": "code",
   "execution_count": 25,
   "id": "f1582718",
   "metadata": {},
   "outputs": [],
   "source": [
    "import gseapy as gp"
   ]
  },
  {
   "cell_type": "code",
   "execution_count": null,
   "id": "fbb943c3",
   "metadata": {},
   "outputs": [],
   "source": [
    "for concept in pool:\n",
    "    ref = df_cellcompartment.loc[df_cellcompartment[\"concept_name\"] == concept, \"symbol\"]\n",
    "    "
   ]
  },
  {
   "cell_type": "code",
   "execution_count": 28,
   "id": "60d6e7ca",
   "metadata": {},
   "outputs": [],
   "source": [
    "??gp.ssgsea"
   ]
  },
  {
   "cell_type": "code",
   "execution_count": null,
   "id": "1c2856a7",
   "metadata": {},
   "outputs": [],
   "source": []
  }
 ],
 "metadata": {
  "kernelspec": {
   "display_name": "Python 3",
   "language": "python",
   "name": "python3"
  },
  "language_info": {
   "codemirror_mode": {
    "name": "ipython",
    "version": 3
   },
   "file_extension": ".py",
   "mimetype": "text/x-python",
   "name": "python",
   "nbconvert_exporter": "python",
   "pygments_lexer": "ipython3",
   "version": "3.7.10"
  }
 },
 "nbformat": 4,
 "nbformat_minor": 5
}
