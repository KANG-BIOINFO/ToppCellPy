{
 "cells": [
  {
   "cell_type": "code",
   "execution_count": 5,
   "id": "d405276a",
   "metadata": {},
   "outputs": [],
   "source": [
    "import numpy as np\n",
    "import os\n",
    "import pandas as pd \n",
    "import sys\n",
    "import scanpy as sc"
   ]
  },
  {
   "cell_type": "code",
   "execution_count": 8,
   "id": "7911b531",
   "metadata": {},
   "outputs": [],
   "source": [
    "sys.path.insert(1, '/Users/jinmr2/Dropbox/Code/ToppCell-Python/')\n",
    "import ToppCell_Python as tp"
   ]
  },
  {
   "cell_type": "code",
   "execution_count": 6,
   "id": "1741da3c",
   "metadata": {},
   "outputs": [],
   "source": [
    "adata = sc.read(\"/Users/jinmr2/Dropbox/Code/data/batch2_all_normalized_filtered.h5ad\")"
   ]
  },
  {
   "cell_type": "code",
   "execution_count": 39,
   "id": "3f220bea",
   "metadata": {},
   "outputs": [],
   "source": [
    "shred = tp.Shred(adata = adata,\n",
    "            shred_plan = [\"stim\", \"cell\", \"stim+cell|stim\"],\n",
    "            bin_group = [\"stim\", \"cell\"],\n",
    "            order_bins = None,\n",
    "            order_modules = None,\n",
    "            method = \"wilcoxon\",\n",
    "            output_dir = \"/Users/jinmr2/Dropbox/Code/data/toppcell_test/\")"
   ]
  },
  {
   "cell_type": "code",
   "execution_count": 10,
   "id": "22fcb9bf",
   "metadata": {
    "collapsed": true
   },
   "outputs": [
    {
     "name": "stderr",
     "output_type": "stream",
     "text": [
      "/Users/jinmr2/opt/miniconda3/envs/aipy/lib/python3.7/site-packages/anndata/_core/anndata.py:1220: FutureWarning: The `inplace` parameter in pandas.Categorical.reorder_categories is deprecated and will be removed in a future version. Removing unused categories will always return a new Categorical object.\n",
      "  c.reorder_categories(natsorted(c.categories), inplace=True)\n",
      "... storing 'bin_group' as categorical\n",
      "/Users/jinmr2/opt/miniconda3/envs/aipy/lib/python3.7/site-packages/anndata/_core/anndata.py:1220: FutureWarning: The `inplace` parameter in pandas.Categorical.reorder_categories is deprecated and will be removed in a future version. Removing unused categories will always return a new Categorical object.\n",
      "  c.reorder_categories(natsorted(c.categories), inplace=True)\n",
      "... storing 'bin_id' as categorical\n",
      "/Users/jinmr2/opt/miniconda3/envs/aipy/lib/python3.7/site-packages/anndata/_core/anndata.py:1220: FutureWarning: The `inplace` parameter in pandas.Categorical.reorder_categories is deprecated and will be removed in a future version. Removing unused categories will always return a new Categorical object.\n",
      "  c.reorder_categories(natsorted(c.categories), inplace=True)\n",
      "... storing 'bin_group' as categorical\n",
      "/Users/jinmr2/opt/miniconda3/envs/aipy/lib/python3.7/site-packages/anndata/_core/anndata.py:1220: FutureWarning: The `inplace` parameter in pandas.Categorical.reorder_categories is deprecated and will be removed in a future version. Removing unused categories will always return a new Categorical object.\n",
      "  c.reorder_categories(natsorted(c.categories), inplace=True)\n",
      "... storing 'bin_id' as categorical\n",
      "/Users/jinmr2/opt/miniconda3/envs/aipy/lib/python3.7/site-packages/anndata/_core/anndata.py:1220: FutureWarning: The `inplace` parameter in pandas.Categorical.reorder_categories is deprecated and will be removed in a future version. Removing unused categories will always return a new Categorical object.\n",
      "  c.reorder_categories(natsorted(c.categories), inplace=True)\n",
      "... storing 'bin_group' as categorical\n",
      "/Users/jinmr2/opt/miniconda3/envs/aipy/lib/python3.7/site-packages/anndata/_core/anndata.py:1220: FutureWarning: The `inplace` parameter in pandas.Categorical.reorder_categories is deprecated and will be removed in a future version. Removing unused categories will always return a new Categorical object.\n",
      "  c.reorder_categories(natsorted(c.categories), inplace=True)\n",
      "... storing 'bin_id' as categorical\n",
      "/Users/jinmr2/opt/miniconda3/envs/aipy/lib/python3.7/site-packages/anndata/_core/anndata.py:1220: FutureWarning: The `inplace` parameter in pandas.Categorical.reorder_categories is deprecated and will be removed in a future version. Removing unused categories will always return a new Categorical object.\n",
      "  c.reorder_categories(natsorted(c.categories), inplace=True)\n",
      "... storing 'target_value' as categorical\n",
      "/Users/jinmr2/opt/miniconda3/envs/aipy/lib/python3.7/site-packages/anndata/_core/anndata.py:1220: FutureWarning: The `inplace` parameter in pandas.Categorical.reorder_categories is deprecated and will be removed in a future version. Removing unused categories will always return a new Categorical object.\n",
      "  c.reorder_categories(natsorted(c.categories), inplace=True)\n",
      "... storing 'bin_group' as categorical\n",
      "/Users/jinmr2/opt/miniconda3/envs/aipy/lib/python3.7/site-packages/anndata/_core/anndata.py:1220: FutureWarning: The `inplace` parameter in pandas.Categorical.reorder_categories is deprecated and will be removed in a future version. Removing unused categories will always return a new Categorical object.\n",
      "  c.reorder_categories(natsorted(c.categories), inplace=True)\n",
      "... storing 'bin_id' as categorical\n",
      "/Users/jinmr2/opt/miniconda3/envs/aipy/lib/python3.7/site-packages/anndata/_core/anndata.py:1220: FutureWarning: The `inplace` parameter in pandas.Categorical.reorder_categories is deprecated and will be removed in a future version. Removing unused categories will always return a new Categorical object.\n",
      "  c.reorder_categories(natsorted(c.categories), inplace=True)\n",
      "... storing 'target_value' as categorical\n"
     ]
    }
   ],
   "source": [
    "shred.do_shredplan()"
   ]
  },
  {
   "cell_type": "code",
   "execution_count": 11,
   "id": "cd70d756",
   "metadata": {},
   "outputs": [],
   "source": [
    "shred.create_heatmap_matrix()"
   ]
  },
  {
   "cell_type": "code",
   "execution_count": 37,
   "id": "ed24bcb0",
   "metadata": {},
   "outputs": [],
   "source": [
    "def createGCT_file(shred, type_bin):\n",
    "    \"\"\"\n",
    "    create GCT file based on both heatmap matrix and bin / module metadata\n",
    "    \"\"\"\n",
    "    # initialization\n",
    "    if type_bin == \"bin\":\n",
    "        bin_meta = shred.bin_metadata.copy()\n",
    "        heatmap_matrix = shred.heatmap_matrix.copy()\n",
    "    elif type_bin == \"superbin\":\n",
    "        bin_meta = shred.superbin_metadata.copy()\n",
    "        heatmap_matrix = shred.heatmap_matrix_super.copy()\n",
    "    else:\n",
    "        raise Exception(\"type should be either bin or superbin\")\n",
    "    df_module = shred.shred_modules_df_2.copy()\n",
    "\n",
    "    # format table\n",
    "    bin_meta = bin_meta.loc[list(heatmap_matrix.columns), :]\n",
    "    bin_meta[\"bin_id\"] = bin_meta.index.values\n",
    "\n",
    "    df_module.reset_index(level = 0, inplace = True)\n",
    "    df_module.rename({\"names\": \"Genes\"}, axis = 1, inplace = True)\n",
    "\n",
    "    df_new_heatmap = pd.DataFrame(data = heatmap_matrix.values,\n",
    "                                    index = pd.MultiIndex.from_frame(df_module),\n",
    "                                    columns = pd.MultiIndex.from_frame(bin_meta))\n",
    "\n",
    "    gct_output_name = \"heatmap_matrix_GCT.gct\" if type_bin == \"bin\" else \"heatmap_matrix_superbin_GCT.gct\"\n",
    "    df_new_heatmap.to_csv(shred.output_folder + gct_output_name, sep = \"\\t\")\n",
    "    \n",
    "    # reformat the table into GCT3 type.\n",
    "    second_line = str(heatmap_matrix.shape[0]) + \"\\t\" + str(heatmap_matrix.shape[1]) + \"\\t\" + str(df_module.shape[1]-1) + \"\\t\" + str(bin_meta.shape[1]-1) + \"\\n\"\n",
    "    \n",
    "    third_line = \"\"\n",
    "    for i, col in enumerate(df_module.columns):\n",
    "        if i != (df_module.shape[1] - 1):\n",
    "            third_line += (col + \"\\t\")\n",
    "        else:\n",
    "            third_line += col\n",
    "    third_line_bins = \"\\t\" + \"\\t\".join(list(bin_meta.index.values)) + \"\\n\"\n",
    "    third_line += third_line_bins\n",
    "    \n",
    "    with open(shred.output_folder + gct_output_name, \"r\") as f:\n",
    "        lines = f.readlines()\n",
    "    with open(shred.output_folder + gct_output_name, \"w\") as f:\n",
    "        f.write(\"#1.3\\n\")\n",
    "        f.write(second_line)\n",
    "        f.write(third_line)\n",
    "        for line in lines:\n",
    "            if not (line.startswith(\"Genes\") or line.startswith(\"bin_id\")):\n",
    "                f.write(line)"
   ]
  },
  {
   "cell_type": "code",
   "execution_count": 38,
   "id": "9f80420b",
   "metadata": {},
   "outputs": [],
   "source": [
    "createGCT_file(shred, \"superbin\")"
   ]
  },
  {
   "cell_type": "markdown",
   "id": "6948dafb",
   "metadata": {},
   "source": [
    "### test for batch run"
   ]
  },
  {
   "cell_type": "code",
   "execution_count": 40,
   "id": "933eaded",
   "metadata": {},
   "outputs": [],
   "source": [
    "shred = tp.Shred(adata = adata,\n",
    "            shred_plan = [\"stim\", \"cell\", \"stim+cell|stim\"],\n",
    "            bin_group = [\"stim\", \"cell\"],\n",
    "            order_bins = None,\n",
    "            order_modules = None,\n",
    "            method = \"wilcoxon\",\n",
    "            output_dir = \"/Users/jinmr2/Dropbox/Code/data/toppcell_test/\")"
   ]
  },
  {
   "cell_type": "code",
   "execution_count": 41,
   "id": "b66a50f3",
   "metadata": {},
   "outputs": [
    {
     "name": "stderr",
     "output_type": "stream",
     "text": [
      "/Users/jinmr2/opt/miniconda3/envs/aipy/lib/python3.7/site-packages/anndata/_core/anndata.py:1220: FutureWarning: The `inplace` parameter in pandas.Categorical.reorder_categories is deprecated and will be removed in a future version. Removing unused categories will always return a new Categorical object.\n",
      "  c.reorder_categories(natsorted(c.categories), inplace=True)\n",
      "... storing 'bin_group' as categorical\n",
      "/Users/jinmr2/opt/miniconda3/envs/aipy/lib/python3.7/site-packages/anndata/_core/anndata.py:1220: FutureWarning: The `inplace` parameter in pandas.Categorical.reorder_categories is deprecated and will be removed in a future version. Removing unused categories will always return a new Categorical object.\n",
      "  c.reorder_categories(natsorted(c.categories), inplace=True)\n",
      "... storing 'bin_id' as categorical\n",
      "/Users/jinmr2/opt/miniconda3/envs/aipy/lib/python3.7/site-packages/anndata/_core/anndata.py:1220: FutureWarning: The `inplace` parameter in pandas.Categorical.reorder_categories is deprecated and will be removed in a future version. Removing unused categories will always return a new Categorical object.\n",
      "  c.reorder_categories(natsorted(c.categories), inplace=True)\n",
      "... storing 'bin_group' as categorical\n",
      "/Users/jinmr2/opt/miniconda3/envs/aipy/lib/python3.7/site-packages/anndata/_core/anndata.py:1220: FutureWarning: The `inplace` parameter in pandas.Categorical.reorder_categories is deprecated and will be removed in a future version. Removing unused categories will always return a new Categorical object.\n",
      "  c.reorder_categories(natsorted(c.categories), inplace=True)\n",
      "... storing 'bin_id' as categorical\n",
      "/Users/jinmr2/opt/miniconda3/envs/aipy/lib/python3.7/site-packages/anndata/_core/anndata.py:1220: FutureWarning: The `inplace` parameter in pandas.Categorical.reorder_categories is deprecated and will be removed in a future version. Removing unused categories will always return a new Categorical object.\n",
      "  c.reorder_categories(natsorted(c.categories), inplace=True)\n",
      "... storing 'bin_group' as categorical\n",
      "/Users/jinmr2/opt/miniconda3/envs/aipy/lib/python3.7/site-packages/anndata/_core/anndata.py:1220: FutureWarning: The `inplace` parameter in pandas.Categorical.reorder_categories is deprecated and will be removed in a future version. Removing unused categories will always return a new Categorical object.\n",
      "  c.reorder_categories(natsorted(c.categories), inplace=True)\n",
      "... storing 'bin_id' as categorical\n",
      "/Users/jinmr2/opt/miniconda3/envs/aipy/lib/python3.7/site-packages/anndata/_core/anndata.py:1220: FutureWarning: The `inplace` parameter in pandas.Categorical.reorder_categories is deprecated and will be removed in a future version. Removing unused categories will always return a new Categorical object.\n",
      "  c.reorder_categories(natsorted(c.categories), inplace=True)\n",
      "... storing 'target_value' as categorical\n",
      "/Users/jinmr2/opt/miniconda3/envs/aipy/lib/python3.7/site-packages/anndata/_core/anndata.py:1220: FutureWarning: The `inplace` parameter in pandas.Categorical.reorder_categories is deprecated and will be removed in a future version. Removing unused categories will always return a new Categorical object.\n",
      "  c.reorder_categories(natsorted(c.categories), inplace=True)\n",
      "... storing 'bin_group' as categorical\n",
      "/Users/jinmr2/opt/miniconda3/envs/aipy/lib/python3.7/site-packages/anndata/_core/anndata.py:1220: FutureWarning: The `inplace` parameter in pandas.Categorical.reorder_categories is deprecated and will be removed in a future version. Removing unused categories will always return a new Categorical object.\n",
      "  c.reorder_categories(natsorted(c.categories), inplace=True)\n",
      "... storing 'bin_id' as categorical\n",
      "/Users/jinmr2/opt/miniconda3/envs/aipy/lib/python3.7/site-packages/anndata/_core/anndata.py:1220: FutureWarning: The `inplace` parameter in pandas.Categorical.reorder_categories is deprecated and will be removed in a future version. Removing unused categories will always return a new Categorical object.\n",
      "  c.reorder_categories(natsorted(c.categories), inplace=True)\n",
      "... storing 'target_value' as categorical\n"
     ]
    },
    {
     "ename": "TypeError",
     "evalue": "draw_heatmap() takes 1 positional argument but 2 were given",
     "output_type": "error",
     "traceback": [
      "\u001b[0;31m---------------------------------------------------------------------------\u001b[0m",
      "\u001b[0;31mTypeError\u001b[0m                                 Traceback (most recent call last)",
      "\u001b[0;32m/var/folders/3f/7rqhky1d7fs92304tt05lz640000gp/T/ipykernel_77943/3087082314.py\u001b[0m in \u001b[0;36m<module>\u001b[0;34m\u001b[0m\n\u001b[0;32m----> 1\u001b[0;31m \u001b[0mshred\u001b[0m\u001b[0;34m.\u001b[0m\u001b[0mtoppcell_batchRun\u001b[0m\u001b[0;34m(\u001b[0m\u001b[0menrich_categories\u001b[0m \u001b[0;34m=\u001b[0m \u001b[0;34m[\u001b[0m\u001b[0;34m\"GeneOntologyCellularComponent\"\u001b[0m\u001b[0;34m]\u001b[0m\u001b[0;34m)\u001b[0m\u001b[0;34m\u001b[0m\u001b[0;34m\u001b[0m\u001b[0m\n\u001b[0m",
      "\u001b[0;32m~/Dropbox/Code/ToppCell-Python/ToppCell_Python/_shred.py\u001b[0m in \u001b[0;36mtoppcell_batchRun\u001b[0;34m(self, top_n_genes, heatmap_output_name, enrich_categories, enrich_ranked, toppcluster_run, toppcluster_drawplot, createGCT)\u001b[0m\n\u001b[1;32m    306\u001b[0m         \u001b[0mself\u001b[0m\u001b[0;34m.\u001b[0m\u001b[0menrich_modules\u001b[0m\u001b[0;34m(\u001b[0m\u001b[0mcategories\u001b[0m \u001b[0;34m=\u001b[0m \u001b[0menrich_categories\u001b[0m\u001b[0;34m,\u001b[0m \u001b[0mranked\u001b[0m \u001b[0;34m=\u001b[0m \u001b[0menrich_ranked\u001b[0m\u001b[0;34m)\u001b[0m\u001b[0;34m\u001b[0m\u001b[0;34m\u001b[0m\u001b[0m\n\u001b[1;32m    307\u001b[0m \u001b[0;34m\u001b[0m\u001b[0m\n\u001b[0;32m--> 308\u001b[0;31m         \u001b[0;32mif\u001b[0m \u001b[0mtoppcluster_run\u001b[0m\u001b[0;34m:\u001b[0m\u001b[0;34m\u001b[0m\u001b[0;34m\u001b[0m\u001b[0m\n\u001b[0m\u001b[1;32m    309\u001b[0m             \u001b[0mself\u001b[0m\u001b[0;34m.\u001b[0m\u001b[0mtoppcluster\u001b[0m\u001b[0;34m(\u001b[0m\u001b[0mdraw_plot\u001b[0m \u001b[0;34m=\u001b[0m \u001b[0mtoppcluster_draw_plot\u001b[0m\u001b[0;34m)\u001b[0m\u001b[0;34m\u001b[0m\u001b[0;34m\u001b[0m\u001b[0m\n\u001b[1;32m    310\u001b[0m         \u001b[0;32mif\u001b[0m \u001b[0mcreateGCT\u001b[0m\u001b[0;34m:\u001b[0m\u001b[0;34m\u001b[0m\u001b[0;34m\u001b[0m\u001b[0m\n",
      "\u001b[0;31mTypeError\u001b[0m: draw_heatmap() takes 1 positional argument but 2 were given"
     ]
    }
   ],
   "source": [
    "shred.toppcell_batchRun(enrich_categories = [\"GeneOntologyCellularComponent\"])"
   ]
  },
  {
   "cell_type": "code",
   "execution_count": null,
   "id": "2e171c15",
   "metadata": {},
   "outputs": [],
   "source": []
  }
 ],
 "metadata": {
  "kernelspec": {
   "display_name": "Python 3 (ipykernel)",
   "language": "python",
   "name": "python3"
  },
  "language_info": {
   "codemirror_mode": {
    "name": "ipython",
    "version": 3
   },
   "file_extension": ".py",
   "mimetype": "text/x-python",
   "name": "python",
   "nbconvert_exporter": "python",
   "pygments_lexer": "ipython3",
   "version": "3.7.10"
  }
 },
 "nbformat": 4,
 "nbformat_minor": 5
}
