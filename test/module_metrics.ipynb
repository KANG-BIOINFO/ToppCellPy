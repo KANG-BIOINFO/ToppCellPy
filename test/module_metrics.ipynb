{
 "cells": [
  {
   "cell_type": "code",
   "execution_count": 2,
   "id": "8b931698",
   "metadata": {},
   "outputs": [],
   "source": [
    "import numpy as np \n",
    "import pandas as pd"
   ]
  },
  {
   "cell_type": "code",
   "execution_count": 3,
   "id": "bda3a923",
   "metadata": {},
   "outputs": [],
   "source": [
    "df = pd.read_csv(\"./data/test_2_parallel_modules.txt\", sep = \"\\t\", header = 0)"
   ]
  },
  {
   "cell_type": "code",
   "execution_count": 4,
   "id": "18e90267",
   "metadata": {},
   "outputs": [
    {
     "data": {
      "text/html": [
       "<div>\n",
       "<style scoped>\n",
       "    .dataframe tbody tr th:only-of-type {\n",
       "        vertical-align: middle;\n",
       "    }\n",
       "\n",
       "    .dataframe tbody tr th {\n",
       "        vertical-align: top;\n",
       "    }\n",
       "\n",
       "    .dataframe thead th {\n",
       "        text-align: right;\n",
       "    }\n",
       "</style>\n",
       "<table border=\"1\" class=\"dataframe\">\n",
       "  <thead>\n",
       "    <tr style=\"text-align: right;\">\n",
       "      <th></th>\n",
       "      <th>gene</th>\n",
       "      <th>mean</th>\n",
       "      <th>score</th>\n",
       "      <th>group</th>\n",
       "    </tr>\n",
       "  </thead>\n",
       "  <tbody>\n",
       "    <tr>\n",
       "      <th>0</th>\n",
       "      <td>FTL</td>\n",
       "      <td>15.07</td>\n",
       "      <td>186.67</td>\n",
       "      <td>macrophage|severe</td>\n",
       "    </tr>\n",
       "    <tr>\n",
       "      <th>1</th>\n",
       "      <td>FTH1</td>\n",
       "      <td>14.59</td>\n",
       "      <td>146.65</td>\n",
       "      <td>macrophage|severe</td>\n",
       "    </tr>\n",
       "    <tr>\n",
       "      <th>2</th>\n",
       "      <td>TMSB10</td>\n",
       "      <td>13.36</td>\n",
       "      <td>87.04</td>\n",
       "      <td>macrophage|severe</td>\n",
       "    </tr>\n",
       "    <tr>\n",
       "      <th>3</th>\n",
       "      <td>SAT1</td>\n",
       "      <td>12.33</td>\n",
       "      <td>90.15</td>\n",
       "      <td>macrophage|severe</td>\n",
       "    </tr>\n",
       "    <tr>\n",
       "      <th>4</th>\n",
       "      <td>S100A11</td>\n",
       "      <td>12.31</td>\n",
       "      <td>115.66</td>\n",
       "      <td>macrophage|severe</td>\n",
       "    </tr>\n",
       "  </tbody>\n",
       "</table>\n",
       "</div>"
      ],
      "text/plain": [
       "      gene   mean   score              group\n",
       "0      FTL  15.07  186.67  macrophage|severe\n",
       "1     FTH1  14.59  146.65  macrophage|severe\n",
       "2   TMSB10  13.36   87.04  macrophage|severe\n",
       "3     SAT1  12.33   90.15  macrophage|severe\n",
       "4  S100A11  12.31  115.66  macrophage|severe"
      ]
     },
     "execution_count": 4,
     "metadata": {},
     "output_type": "execute_result"
    }
   ],
   "source": [
    "df.head()"
   ]
  },
  {
   "cell_type": "code",
   "execution_count": 25,
   "id": "50d1aade",
   "metadata": {},
   "outputs": [
    {
     "data": {
      "text/plain": [
       "(150, 4)"
      ]
     },
     "execution_count": 25,
     "metadata": {},
     "output_type": "execute_result"
    }
   ],
   "source": [
    "df_test = df.iloc[range(150),:]\n",
    "df_test.shape"
   ]
  },
  {
   "cell_type": "code",
   "execution_count": 26,
   "id": "ddaea1c6",
   "metadata": {},
   "outputs": [],
   "source": [
    "a = df_test[\"group\"].value_counts()"
   ]
  },
  {
   "cell_type": "code",
   "execution_count": 28,
   "id": "19c9d308",
   "metadata": {},
   "outputs": [],
   "source": [
    "b = a[a==100].index.values"
   ]
  },
  {
   "cell_type": "code",
   "execution_count": 29,
   "id": "d72883ac",
   "metadata": {},
   "outputs": [
    {
     "data": {
      "text/html": [
       "<div>\n",
       "<style scoped>\n",
       "    .dataframe tbody tr th:only-of-type {\n",
       "        vertical-align: middle;\n",
       "    }\n",
       "\n",
       "    .dataframe tbody tr th {\n",
       "        vertical-align: top;\n",
       "    }\n",
       "\n",
       "    .dataframe thead th {\n",
       "        text-align: right;\n",
       "    }\n",
       "</style>\n",
       "<table border=\"1\" class=\"dataframe\">\n",
       "  <thead>\n",
       "    <tr style=\"text-align: right;\">\n",
       "      <th></th>\n",
       "      <th>gene</th>\n",
       "      <th>mean</th>\n",
       "      <th>score</th>\n",
       "      <th>group</th>\n",
       "    </tr>\n",
       "  </thead>\n",
       "  <tbody>\n",
       "    <tr>\n",
       "      <th>0</th>\n",
       "      <td>FTL</td>\n",
       "      <td>15.07</td>\n",
       "      <td>186.67</td>\n",
       "      <td>macrophage|severe</td>\n",
       "    </tr>\n",
       "    <tr>\n",
       "      <th>1</th>\n",
       "      <td>FTH1</td>\n",
       "      <td>14.59</td>\n",
       "      <td>146.65</td>\n",
       "      <td>macrophage|severe</td>\n",
       "    </tr>\n",
       "    <tr>\n",
       "      <th>2</th>\n",
       "      <td>TMSB10</td>\n",
       "      <td>13.36</td>\n",
       "      <td>87.04</td>\n",
       "      <td>macrophage|severe</td>\n",
       "    </tr>\n",
       "    <tr>\n",
       "      <th>3</th>\n",
       "      <td>SAT1</td>\n",
       "      <td>12.33</td>\n",
       "      <td>90.15</td>\n",
       "      <td>macrophage|severe</td>\n",
       "    </tr>\n",
       "    <tr>\n",
       "      <th>4</th>\n",
       "      <td>S100A11</td>\n",
       "      <td>12.31</td>\n",
       "      <td>115.66</td>\n",
       "      <td>macrophage|severe</td>\n",
       "    </tr>\n",
       "    <tr>\n",
       "      <th>...</th>\n",
       "      <td>...</td>\n",
       "      <td>...</td>\n",
       "      <td>...</td>\n",
       "      <td>...</td>\n",
       "    </tr>\n",
       "    <tr>\n",
       "      <th>95</th>\n",
       "      <td>MNDA</td>\n",
       "      <td>6.53</td>\n",
       "      <td>103.55</td>\n",
       "      <td>macrophage|severe</td>\n",
       "    </tr>\n",
       "    <tr>\n",
       "      <th>96</th>\n",
       "      <td>SERPING1</td>\n",
       "      <td>6.45</td>\n",
       "      <td>104.73</td>\n",
       "      <td>macrophage|severe</td>\n",
       "    </tr>\n",
       "    <tr>\n",
       "      <th>97</th>\n",
       "      <td>GLIPR2</td>\n",
       "      <td>6.45</td>\n",
       "      <td>75.98</td>\n",
       "      <td>macrophage|severe</td>\n",
       "    </tr>\n",
       "    <tr>\n",
       "      <th>98</th>\n",
       "      <td>CTSZ</td>\n",
       "      <td>6.43</td>\n",
       "      <td>103.06</td>\n",
       "      <td>macrophage|severe</td>\n",
       "    </tr>\n",
       "    <tr>\n",
       "      <th>99</th>\n",
       "      <td>CDKN1A</td>\n",
       "      <td>6.42</td>\n",
       "      <td>67.75</td>\n",
       "      <td>macrophage|severe</td>\n",
       "    </tr>\n",
       "  </tbody>\n",
       "</table>\n",
       "<p>100 rows × 4 columns</p>\n",
       "</div>"
      ],
      "text/plain": [
       "        gene   mean   score              group\n",
       "0        FTL  15.07  186.67  macrophage|severe\n",
       "1       FTH1  14.59  146.65  macrophage|severe\n",
       "2     TMSB10  13.36   87.04  macrophage|severe\n",
       "3       SAT1  12.33   90.15  macrophage|severe\n",
       "4    S100A11  12.31  115.66  macrophage|severe\n",
       "..       ...    ...     ...                ...\n",
       "95      MNDA   6.53  103.55  macrophage|severe\n",
       "96  SERPING1   6.45  104.73  macrophage|severe\n",
       "97    GLIPR2   6.45   75.98  macrophage|severe\n",
       "98      CTSZ   6.43  103.06  macrophage|severe\n",
       "99    CDKN1A   6.42   67.75  macrophage|severe\n",
       "\n",
       "[100 rows x 4 columns]"
      ]
     },
     "execution_count": 29,
     "metadata": {},
     "output_type": "execute_result"
    }
   ],
   "source": [
    "df.loc[df[\"group\"].isin(b),:]"
   ]
  },
  {
   "cell_type": "code",
   "execution_count": 38,
   "id": "1e3e4938",
   "metadata": {},
   "outputs": [],
   "source": [
    "a = df[\"gene\"][:34]"
   ]
  },
  {
   "cell_type": "code",
   "execution_count": 39,
   "id": "d8b39d0d",
   "metadata": {},
   "outputs": [
    {
     "data": {
      "text/plain": [
       "31"
      ]
     },
     "execution_count": 39,
     "metadata": {},
     "output_type": "execute_result"
    }
   ],
   "source": [
    "len(a)"
   ]
  },
  {
   "cell_type": "code",
   "execution_count": 40,
   "id": "6d7e1deb",
   "metadata": {},
   "outputs": [],
   "source": [
    "def chunk2(x, n): return [x[i:i+n] for i in range(0, len(x), n)]"
   ]
  },
  {
   "cell_type": "code",
   "execution_count": 55,
   "id": "8091de59",
   "metadata": {},
   "outputs": [
    {
     "data": {
      "text/plain": [
       "[0        FTL\n",
       " 1       FTH1\n",
       " 2     TMSB10\n",
       " 3       SAT1\n",
       " 4    S100A11\n",
       " Name: gene, dtype: object,\n",
       " 5      CCL2\n",
       " 6    IFITM3\n",
       " 7    S100A6\n",
       " 8      CTSL\n",
       " 9      CD74\n",
       " Name: gene, dtype: object,\n",
       " 10      FCER1G\n",
       " 11         VIM\n",
       " 12      TYROBP\n",
       " 13        CTSB\n",
       " 14    SH3BGRL3\n",
       " Name: gene, dtype: object,\n",
       " 15       SRGN\n",
       " 16    S100A10\n",
       " 17       CSTB\n",
       " 18       TYMP\n",
       " Name: gene, dtype: object,\n",
       " 19       CST3\n",
       " 20    HLA-DRA\n",
       " 21       KLF6\n",
       " 22       CTSD\n",
       " Name: gene, dtype: object,\n",
       " 23    LGALS3\n",
       " 24      PSAP\n",
       " 25    LGALS1\n",
       " 26      GLUL\n",
       " Name: gene, dtype: object,\n",
       " 27    IFI30\n",
       " 28    RSAD2\n",
       " 29    IFIT3\n",
       " 30     CD63\n",
       " Name: gene, dtype: object]"
      ]
     },
     "execution_count": 55,
     "metadata": {},
     "output_type": "execute_result"
    }
   ],
   "source": [
    "np.array_split(a,7)"
   ]
  },
  {
   "cell_type": "code",
   "execution_count": 56,
   "id": "6c509d08",
   "metadata": {},
   "outputs": [
    {
     "data": {
      "text/plain": [
       "list"
      ]
     },
     "execution_count": 56,
     "metadata": {},
     "output_type": "execute_result"
    }
   ],
   "source": [
    "b = np.array_split(a,7)\n",
    "type(b)"
   ]
  },
  {
   "cell_type": "code",
   "execution_count": 61,
   "id": "ef24e32f",
   "metadata": {},
   "outputs": [],
   "source": [
    "def get_chunk_id(b):\n",
    "    chunk_ids = []\n",
    "    for i in range(len(b)):\n",
    "        chunk_ids += [i] * len(b[i])\n",
    "    return chunk_ids"
   ]
  },
  {
   "cell_type": "code",
   "execution_count": 62,
   "id": "47990acb",
   "metadata": {},
   "outputs": [
    {
     "data": {
      "text/plain": [
       "[0,\n",
       " 0,\n",
       " 0,\n",
       " 0,\n",
       " 0,\n",
       " 1,\n",
       " 1,\n",
       " 1,\n",
       " 1,\n",
       " 1,\n",
       " 2,\n",
       " 2,\n",
       " 2,\n",
       " 2,\n",
       " 2,\n",
       " 3,\n",
       " 3,\n",
       " 3,\n",
       " 3,\n",
       " 4,\n",
       " 4,\n",
       " 4,\n",
       " 4,\n",
       " 5,\n",
       " 5,\n",
       " 5,\n",
       " 5,\n",
       " 6,\n",
       " 6,\n",
       " 6,\n",
       " 6]"
      ]
     },
     "execution_count": 62,
     "metadata": {},
     "output_type": "execute_result"
    }
   ],
   "source": [
    "get_chunk_id(b)"
   ]
  },
  {
   "cell_type": "code",
   "execution_count": null,
   "id": "fc849a64",
   "metadata": {},
   "outputs": [],
   "source": []
  }
 ],
 "metadata": {
  "kernelspec": {
   "display_name": "Python 3",
   "language": "python",
   "name": "python3"
  },
  "language_info": {
   "codemirror_mode": {
    "name": "ipython",
    "version": 3
   },
   "file_extension": ".py",
   "mimetype": "text/x-python",
   "name": "python",
   "nbconvert_exporter": "python",
   "pygments_lexer": "ipython3",
   "version": "3.7.10"
  }
 },
 "nbformat": 4,
 "nbformat_minor": 5
}
